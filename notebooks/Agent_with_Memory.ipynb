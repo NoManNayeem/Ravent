{
 "cells": [
  {
   "cell_type": "markdown",
   "id": "b3374991-bc52-44ad-aba9-be40705779e6",
   "metadata": {},
   "source": [
    "# Install Packages"
   ]
  },
  {
   "cell_type": "code",
   "execution_count": 2,
   "id": "a5cc6550-7429-49fd-aa6f-9c462f0494c8",
   "metadata": {},
   "outputs": [
    {
     "name": "stderr",
     "output_type": "stream",
     "text": [
      "WARNING: Ignoring invalid distribution ~cipy (C:\\Users\\lenovo\\anaconda3\\Lib\\site-packages)\n",
      "WARNING: Ignoring invalid distribution ~cipy (C:\\Users\\lenovo\\anaconda3\\Lib\\site-packages)\n",
      "WARNING: Ignoring invalid distribution ~cipy (C:\\Users\\lenovo\\anaconda3\\Lib\\site-packages)\n"
     ]
    }
   ],
   "source": [
    "! pip install -qU agno groq openai"
   ]
  },
  {
   "cell_type": "markdown",
   "id": "55ef9571-9152-45e4-b0f8-81895906bf44",
   "metadata": {},
   "source": [
    "# Load Secrets"
   ]
  },
  {
   "cell_type": "code",
   "execution_count": 4,
   "id": "332b61ef-2a72-451d-9ef4-618f38a3ba5e",
   "metadata": {},
   "outputs": [
    {
     "name": "stdout",
     "output_type": "stream",
     "text": [
      "GROQ_API_KEY: True\n",
      "OPENAI_API_KEY: True\n"
     ]
    }
   ],
   "source": [
    "import os\n",
    "from dotenv import load_dotenv\n",
    "from pathlib import Path\n",
    "\n",
    "# Move up one directory to find .env\n",
    "env_path = Path.cwd().parent / '.env'\n",
    "\n",
    "# Load the .env file\n",
    "load_dotenv(dotenv_path=env_path)\n",
    "\n",
    "# Access your keys\n",
    "groq_api_key = os.getenv('GROQ_API_KEY')\n",
    "openai_api_key = os.getenv('OPENAI_API_KEY')\n",
    "\n",
    "print(f\"GROQ_API_KEY: {bool(groq_api_key)}\")\n",
    "print(f\"OPENAI_API_KEY: {bool(openai_api_key)}\")\n"
   ]
  },
  {
   "cell_type": "markdown",
   "id": "58856765-d9eb-4525-a6f2-16dba02bb238",
   "metadata": {},
   "source": [
    "# Initiate Agent"
   ]
  },
  {
   "cell_type": "code",
   "execution_count": 10,
   "id": "16d80b33-0492-4b05-8197-076732bc07bb",
   "metadata": {},
   "outputs": [
    {
     "name": "stdout",
     "output_type": "stream",
     "text": [
      "## Introduction to Our Lunar Neighbor\n",
      "The average distance from the Earth to the Moon is approximately **384,400 kilometers (238,900 miles)**. This distance is constantly changing due to the elliptical shape of the Moon's orbit around our planet.\n",
      "\n",
      "To give you a better idea, the Moon is about **30 times the diameter of the Earth** away from us.\n",
      "\n",
      "Are you happy with this answer or would you like to know more about the Moon's orbit or distance variations?\n"
     ]
    }
   ],
   "source": [
    "from agno.agent import Agent, RunResponse  # noqa\n",
    "from agno.models.groq import Groq\n",
    "from textwrap import dedent\n",
    "\n",
    "agent = Agent(\n",
    "    model=Groq(id=\"llama-3.3-70b-versatile\"),\n",
    "    instructions=dedent(\"\"\"\\\n",
    "        You are a friendly assistant with expertise to answer user's queries! 🗽\n",
    "\n",
    "        Your style guide:\n",
    "        - Try to understand user's queries properly and answer/reply to the queries\n",
    "        - Ask users if you have to clarify or needs more precision to make an answer/reply\n",
    "        - Keep your responses concise and ask user if user is happy with the answer or needs more details or something else\n",
    "        - Start/End with a catchy introduction/sign-off sentences!'\n",
    "\n",
    "        Remember: You are a friendly Q/A buddy !\\\n",
    "    \"\"\"),\n",
    "    markdown=True\n",
    ")\n",
    "\n",
    "# Get the response in a variable\n",
    "response: RunResponse = agent.run(\"How far is Moon?\")\n",
    "print(response.content)"
   ]
  },
  {
   "cell_type": "markdown",
   "id": "b5eb369e-3c26-473b-82a8-35b62215102c",
   "metadata": {},
   "source": [
    "# Agent with Memories"
   ]
  },
  {
   "cell_type": "markdown",
   "id": "35921db9-b876-49a5-9ac5-1b6fb1d75883",
   "metadata": {},
   "source": [
    "### Step 1 – Give your agent a persistent Memory + chat-history store"
   ]
  },
  {
   "cell_type": "code",
   "execution_count": 30,
   "id": "bf242775-2985-4fb1-9a73-58c27d15eea7",
   "metadata": {},
   "outputs": [],
   "source": [
    "from textwrap import dedent\n",
    "from agno.agent import Agent\n",
    "from agno.models.groq import Groq\n",
    "from agno.memory.v2.memory import Memory\n",
    "from agno.memory.v2.db.sqlite import SqliteMemoryDb\n",
    "from agno.storage.sqlite import SqliteStorage\n",
    "\n",
    "# Persistent SQLite file for BOTH memories and chat history\n",
    "db_file = \"tmp/memory.db\"\n",
    "\n",
    "memory = Memory(db=SqliteMemoryDb(table_name=\"user_memories\", db_file=db_file))\n",
    "storage = SqliteStorage(table_name=\"agent_sessions\", db_file=db_file)\n",
    "\n",
    "agent = Agent(\n",
    "    model=Groq(id=\"llama-3.3-70b-versatile\"),\n",
    "    instructions=dedent(\n",
    "        \"\"\"\n",
    "        You are a friendly assistant! 🗽\n",
    "        • Understand the user's question.\n",
    "        • Ask clarifying questions if needed.\n",
    "        • Keep answers concise; offer to go deeper.\n",
    "        • Open/close each reply with a catchy line.\n",
    "        \"\"\"\n",
    "    ),\n",
    "    memory=memory,                     # long-term user memories\n",
    "    storage=storage,                   # chat-history store\n",
    "    enable_agentic_memory=True,        # let the agent manage memories itself :contentReference[oaicite:0]{index=0}\n",
    "    add_history_to_messages=True,      # include recent turns in the prompt :contentReference[oaicite:1]{index=1}\n",
    "    markdown=True,\n",
    ")\n"
   ]
  },
  {
   "cell_type": "markdown",
   "id": "92ba73c4-d113-485c-883b-e1b7edb79bbc",
   "metadata": {},
   "source": [
    "### Step 2 — Define a simple chat loop"
   ]
  },
  {
   "cell_type": "code",
   "execution_count": 40,
   "id": "b04473af-b0f4-4e0f-b22e-0034779fd071",
   "metadata": {},
   "outputs": [],
   "source": [
    "import uuid\n",
    "from collections import defaultdict\n",
    "\n",
    "# --- 1️⃣  very small “user table” ----------------------------\n",
    "user_db = {\n",
    "    \"Nayeem\": {\"id\": \"1\", \"username\": \"Nayeem\"},\n",
    "    \"NoMan\":  {\"id\": \"2\", \"username\": \"NoMan\"},\n",
    "}\n",
    "\n",
    "# --- 2️⃣  session bookkeeping --------------------------------\n",
    "# one live session_id per user for this kernel\n",
    "_session_map: dict[str, str] = defaultdict(lambda: f\"session-{uuid.uuid4().hex[:6]}\")\n",
    "\n",
    "def get_user_record():\n",
    "    while True:\n",
    "        name = input(f\"Who are you? {list(user_db.keys())} → \").strip()\n",
    "        if name in user_db:\n",
    "            return user_db[name]\n",
    "        print(\"Unknown user, try again.\")\n",
    "\n",
    "# --- 3️⃣  revised chat loop ----------------------------------\n",
    "def chat_loop(agent):\n",
    "    user = get_user_record()\n",
    "    user_id = user[\"id\"]          # <- what Agno stores memories under\n",
    "    session_id = _session_map[user_id]   # one chat thread per (kernel, user)\n",
    "\n",
    "    print(f\"\\n👋  Chatting as **{user['username']}**  (type 'exit' to quit)\\n\")\n",
    "\n",
    "    while True:\n",
    "        msg = input(\"You → \").strip()\n",
    "        if msg.lower() in {\"exit\", \"quit\", \"q\"}:\n",
    "            print(\"Bye! 👋\")\n",
    "            break\n",
    "\n",
    "        resp = agent.run(\n",
    "            msg,\n",
    "            user_id=user_id,      # keeps memories separate per numeric id\n",
    "            session_id=session_id # keeps chat history separate per user\n",
    "        )\n",
    "        print(f\"Agent → {resp.content}\\n\")\n"
   ]
  },
  {
   "cell_type": "markdown",
   "id": "9083fb0d-f134-4064-8d3a-65efa3a02679",
   "metadata": {},
   "source": [
    "### Step 3 — Start chatting (pick any logical user id)"
   ]
  },
  {
   "cell_type": "code",
   "execution_count": 45,
   "id": "fcd49c37-c65c-4a2b-b5d3-4fed132c1aec",
   "metadata": {},
   "outputs": [
    {
     "name": "stdin",
     "output_type": "stream",
     "text": [
      "Who are you? ['Nayeem', 'NoMan'] →  Nayeem\n"
     ]
    },
    {
     "name": "stdout",
     "output_type": "stream",
     "text": [
      "\n",
      "👋  Chatting as **Nayeem**  (type 'exit' to quit)\n",
      "\n"
     ]
    },
    {
     "name": "stdin",
     "output_type": "stream",
     "text": [
      "You →  hey\n"
     ]
    },
    {
     "name": "stdout",
     "output_type": "stream",
     "text": [
      "Agent → Hello and welcome. I'm excited to chat with you and help with any questions or topics you'd like to discuss. Since we've just started, I don't have any prior knowledge or memories about you, but I can start learning more as we talk. What's on your mind today?\n",
      "\n",
      "If you'd like to share something that you think I should remember for our conversation, I can use the `update_user_memory` tool to store that information. Just let me know.\n",
      "\n"
     ]
    },
    {
     "name": "stdin",
     "output_type": "stream",
     "text": [
      "You →  who is Trump?\n"
     ]
    },
    {
     "name": "stdout",
     "output_type": "stream",
     "text": [
      "Agent → Donald Trump is the 45th President of the United States, serving from 2017 to 2021. He's a businessman, politician, and media personality. Before his presidency, Trump was known for his reality TV show \"The Apprentice\" and his real estate empire, the Trump Organization. As president, he implemented various policies, including tax cuts, and pursued a conservative agenda. Trump has been a divisive figure, sparking both strong support and criticism. Would you like to know more about a specific aspect of his life or presidency?\n",
      "\n"
     ]
    },
    {
     "name": "stdin",
     "output_type": "stream",
     "text": [
      "You →  and who is David Backham\n"
     ]
    },
    {
     "name": "stdout",
     "output_type": "stream",
     "text": [
      "Agent → David Beckham is a former professional soccer player, widely regarded as one of the greatest set-piece specialists and crossers in the game. He played for several top-tier clubs, including Manchester United, Real Madrid, and Paris Saint-Germain, and was also a key player for the English national team. After retiring from football, Beckham has remained a prominent figure, involved in various philanthropic and entrepreneurial endeavors. He's also known for his fashion sense and has been a style icon for many years. Would you like to know more about his career, personal life, or something else?\n",
      "\n"
     ]
    },
    {
     "name": "stdin",
     "output_type": "stream",
     "text": [
      "You →  what are the questions I asked you?\n"
     ]
    },
    {
     "name": "stdout",
     "output_type": "stream",
     "text": [
      "Agent → You asked me:\n",
      "\n",
      "1. \"hey\" (a greeting)\n",
      "2. \"who is Trump?\" (a question about Donald Trump)\n",
      "3. \"and who is David Backham\" (a question about David Beckham, although there was a small typo in the name)\n",
      "\n",
      "Let me know if you'd like to ask more questions or discuss something specific!\n",
      "\n"
     ]
    },
    {
     "name": "stdin",
     "output_type": "stream",
     "text": [
      "You →  q\n"
     ]
    },
    {
     "name": "stdout",
     "output_type": "stream",
     "text": [
      "Bye! 👋\n"
     ]
    }
   ],
   "source": [
    "chat_loop(agent)"
   ]
  },
  {
   "cell_type": "code",
   "execution_count": 47,
   "id": "af47a90e-3ab7-419c-a12f-85ba0ca4731f",
   "metadata": {},
   "outputs": [
    {
     "name": "stdin",
     "output_type": "stream",
     "text": [
      "Who are you? ['Nayeem', 'NoMan'] →  NoMan\n"
     ]
    },
    {
     "name": "stdout",
     "output_type": "stream",
     "text": [
      "\n",
      "👋  Chatting as **NoMan**  (type 'exit' to quit)\n",
      "\n"
     ]
    },
    {
     "name": "stdin",
     "output_type": "stream",
     "text": [
      "You →  what are the questions I asked you?\n"
     ]
    },
    {
     "name": "stdout",
     "output_type": "stream",
     "text": [
      "Agent → You haven't asked me any questions yet, this is the start of our conversation. I'm ready to chat and help with any questions you may have. \n",
      "\n",
      "To confirm, I haven't stored any memories of our conversation yet, but I can do so using the `update_user_memory` function if needed.\n",
      "\n"
     ]
    },
    {
     "name": "stdin",
     "output_type": "stream",
     "text": [
      "You →  who is Neil?\n"
     ]
    },
    {
     "name": "stdout",
     "output_type": "stream",
     "text": [
      "Agent → I don't have any information about a person named Neil. This conversation just started, and I haven't received any details about someone named Neil. If you'd like to share more about Neil, I can try to help or store the information for our conversation using the `update_user_memory` function.\n",
      "\n",
      "\"Knowledge is power, and sharing is caring!\"\n",
      "\n"
     ]
    },
    {
     "name": "stdin",
     "output_type": "stream",
     "text": [
      "You →  my last question:\n"
     ]
    },
    {
     "name": "stdout",
     "output_type": "stream",
     "text": [
      "Agent → Your last question was \"who is Neil?\".\n",
      "\n",
      "\"May the conversation be ever in your favor, until next time!\"\n",
      "\n"
     ]
    },
    {
     "name": "stdin",
     "output_type": "stream",
     "text": [
      "You →  Neil is a liar. Now tell me about Harry Potter:\n"
     ]
    },
    {
     "name": "stdout",
     "output_type": "stream",
     "text": [
      "Agent → Now, about Harry Potter: \n",
      "Harry Potter is a beloved book series by J.K. Rowling that follows the adventures of a young wizard named Harry Potter and his friends at Hogwarts School of Witchcraft and Wizardry. The series includes seven fantasy novels, with the first book published in 1997 and the last in 2007. The books have been translated into over 80 languages and have sold more than 500 million copies worldwide, making it one of the best-selling book series of all time.\n",
      "\n",
      "Would you like to know more about the wizarding world, its characters, or something specific?\n",
      "\n",
      "\"Magic is all around, you just have to believe!\"\n",
      "\n"
     ]
    },
    {
     "name": "stdin",
     "output_type": "stream",
     "text": [
      "You →  who is Neil?\n"
     ]
    },
    {
     "name": "stdout",
     "output_type": "stream",
     "text": [
      "Agent → According to our conversation, Neil is a person who is known to be dishonest, as you mentioned earlier. I have also stored this information in my memory using the `update_user_memory` function.\n",
      "\n",
      "\" Memories can be tricky, but honesty is always the best policy!\"\n",
      "\n"
     ]
    },
    {
     "name": "stdin",
     "output_type": "stream",
     "text": [
      "You →  q\n"
     ]
    },
    {
     "name": "stdout",
     "output_type": "stream",
     "text": [
      "Bye! 👋\n"
     ]
    }
   ],
   "source": [
    "# chat_loop(agent)"
   ]
  },
  {
   "cell_type": "code",
   "execution_count": null,
   "id": "b5dd4854-0b6d-4753-a1be-1a84656bdb81",
   "metadata": {},
   "outputs": [],
   "source": []
  }
 ],
 "metadata": {
  "kernelspec": {
   "display_name": "Python 3 (ipykernel)",
   "language": "python",
   "name": "python3"
  },
  "language_info": {
   "codemirror_mode": {
    "name": "ipython",
    "version": 3
   },
   "file_extension": ".py",
   "mimetype": "text/x-python",
   "name": "python",
   "nbconvert_exporter": "python",
   "pygments_lexer": "ipython3",
   "version": "3.12.7"
  }
 },
 "nbformat": 4,
 "nbformat_minor": 5
}
