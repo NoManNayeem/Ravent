{
 "cells": [
  {
   "cell_type": "markdown",
   "id": "769528ed-5923-4b5d-a69d-05e4f239388e",
   "metadata": {},
   "source": [
    "# Install Packages"
   ]
  },
  {
   "cell_type": "code",
   "execution_count": 17,
   "id": "45257e84-a873-4064-8157-8027f8db1a0c",
   "metadata": {},
   "outputs": [
    {
     "name": "stderr",
     "output_type": "stream",
     "text": [
      "WARNING: Ignoring invalid distribution ~cipy (C:\\Users\\lenovo\\anaconda3\\Lib\\site-packages)\n",
      "WARNING: Ignoring invalid distribution ~cipy (C:\\Users\\lenovo\\anaconda3\\Lib\\site-packages)\n",
      "WARNING: Ignoring invalid distribution ~cipy (C:\\Users\\lenovo\\anaconda3\\Lib\\site-packages)\n",
      "ERROR: pip's dependency resolver does not currently take into account all the packages that are installed. This behaviour is the source of the following dependency conflicts.\n",
      "embedchain 0.1.128 requires langchain-openai<0.3.0,>=0.2.1, but you have langchain-openai 0.3.19 which is incompatible.\n",
      "embedchain 0.1.128 requires rich<14.0.0,>=13.7.0, but you have rich 14.0.0 which is incompatible.\n",
      "unstructured-client 0.27.0 requires pydantic<2.10.0,>=2.9.2, but you have pydantic 2.11.4 which is incompatible.\n",
      "unstructured-client 0.27.0 requires python-dateutil==2.8.2, but you have python-dateutil 2.9.0.post0 which is incompatible.\n"
     ]
    },
    {
     "name": "stdout",
     "output_type": "stream",
     "text": [
      "Requirement already satisfied: chromadb in c:\\users\\lenovo\\anaconda3\\lib\\site-packages (0.5.23)\n",
      "Requirement already satisfied: langchain in c:\\users\\lenovo\\anaconda3\\lib\\site-packages (0.3.22)\n",
      "Requirement already satisfied: openai in c:\\users\\lenovo\\anaconda3\\lib\\site-packages (1.79.0)\n",
      "Requirement already satisfied: langchain-chroma in c:\\users\\lenovo\\anaconda3\\lib\\site-packages (0.1.4)\n",
      "Collecting chroma-migrate\n",
      "  Using cached chroma_migrate-0.0.7-py3-none-any.whl.metadata (3.4 kB)\n",
      "Requirement already satisfied: build>=1.0.3 in c:\\users\\lenovo\\anaconda3\\lib\\site-packages (from chromadb) (1.2.2.post1)\n",
      "Requirement already satisfied: pydantic>=1.9 in c:\\users\\lenovo\\appdata\\roaming\\python\\python312\\site-packages (from chromadb) (2.11.4)\n",
      "Requirement already satisfied: chroma-hnswlib==0.7.6 in c:\\users\\lenovo\\anaconda3\\lib\\site-packages (from chromadb) (0.7.6)\n",
      "Requirement already satisfied: fastapi>=0.95.2 in c:\\users\\lenovo\\anaconda3\\lib\\site-packages (from chromadb) (0.115.9)\n",
      "Requirement already satisfied: uvicorn>=0.18.3 in c:\\users\\lenovo\\anaconda3\\lib\\site-packages (from uvicorn[standard]>=0.18.3->chromadb) (0.32.0)\n",
      "Requirement already satisfied: numpy>=1.22.5 in c:\\users\\lenovo\\anaconda3\\lib\\site-packages (from chromadb) (1.26.4)\n",
      "Requirement already satisfied: posthog>=2.4.0 in c:\\users\\lenovo\\anaconda3\\lib\\site-packages (from chromadb) (3.7.0)\n",
      "Requirement already satisfied: typing_extensions>=4.5.0 in c:\\users\\lenovo\\appdata\\roaming\\python\\python312\\site-packages (from chromadb) (4.12.2)\n",
      "Requirement already satisfied: onnxruntime>=1.14.1 in c:\\users\\lenovo\\anaconda3\\lib\\site-packages (from chromadb) (1.20.0)\n",
      "Requirement already satisfied: opentelemetry-api>=1.2.0 in c:\\users\\lenovo\\anaconda3\\lib\\site-packages (from chromadb) (1.31.1)\n",
      "Requirement already satisfied: opentelemetry-exporter-otlp-proto-grpc>=1.2.0 in c:\\users\\lenovo\\anaconda3\\lib\\site-packages (from chromadb) (1.31.1)\n",
      "Requirement already satisfied: opentelemetry-instrumentation-fastapi>=0.41b0 in c:\\users\\lenovo\\anaconda3\\lib\\site-packages (from chromadb) (0.52b1)\n",
      "Requirement already satisfied: opentelemetry-sdk>=1.2.0 in c:\\users\\lenovo\\anaconda3\\lib\\site-packages (from chromadb) (1.31.1)\n",
      "Requirement already satisfied: tokenizers<=0.20.3,>=0.13.2 in c:\\users\\lenovo\\anaconda3\\lib\\site-packages (from chromadb) (0.20.3)\n",
      "Requirement already satisfied: pypika>=0.48.9 in c:\\users\\lenovo\\anaconda3\\lib\\site-packages (from chromadb) (0.48.9)\n",
      "Requirement already satisfied: tqdm>=4.65.0 in c:\\users\\lenovo\\anaconda3\\lib\\site-packages (from chromadb) (4.66.5)\n",
      "Requirement already satisfied: overrides>=7.3.1 in c:\\users\\lenovo\\anaconda3\\lib\\site-packages (from chromadb) (7.4.0)\n",
      "Requirement already satisfied: importlib-resources in c:\\users\\lenovo\\anaconda3\\lib\\site-packages (from chromadb) (6.4.5)\n",
      "Requirement already satisfied: grpcio>=1.58.0 in c:\\users\\lenovo\\anaconda3\\lib\\site-packages (from chromadb) (1.71.0)\n",
      "Requirement already satisfied: bcrypt>=4.0.1 in c:\\users\\lenovo\\anaconda3\\lib\\site-packages (from chromadb) (4.2.0)\n",
      "Requirement already satisfied: typer>=0.9.0 in c:\\users\\lenovo\\anaconda3\\lib\\site-packages (from chromadb) (0.13.0)\n",
      "Requirement already satisfied: kubernetes>=28.1.0 in c:\\users\\lenovo\\anaconda3\\lib\\site-packages (from chromadb) (31.0.0)\n",
      "Requirement already satisfied: tenacity>=8.2.3 in c:\\users\\lenovo\\appdata\\roaming\\python\\python312\\site-packages (from chromadb) (9.1.2)\n",
      "Requirement already satisfied: PyYAML>=6.0.0 in c:\\users\\lenovo\\appdata\\roaming\\python\\python312\\site-packages (from chromadb) (6.0.2)\n",
      "Requirement already satisfied: mmh3>=4.0.1 in c:\\users\\lenovo\\anaconda3\\lib\\site-packages (from chromadb) (5.0.1)\n",
      "Requirement already satisfied: orjson>=3.9.12 in c:\\users\\lenovo\\appdata\\roaming\\python\\python312\\site-packages (from chromadb) (3.10.18)\n",
      "Requirement already satisfied: httpx>=0.27.0 in c:\\users\\lenovo\\appdata\\roaming\\python\\python312\\site-packages (from chromadb) (0.28.1)\n",
      "Requirement already satisfied: rich>=10.11.0 in c:\\users\\lenovo\\anaconda3\\lib\\site-packages (from chromadb) (14.0.0)\n",
      "Requirement already satisfied: huggingface-hub<1.0,>=0.16.4 in c:\\users\\lenovo\\anaconda3\\lib\\site-packages (from tokenizers<=0.20.3,>=0.13.2->chromadb) (0.26.2)\n",
      "Requirement already satisfied: filelock in c:\\users\\lenovo\\anaconda3\\lib\\site-packages (from huggingface-hub<1.0,>=0.16.4->tokenizers<=0.20.3,>=0.13.2->chromadb) (3.13.1)\n",
      "Requirement already satisfied: fsspec>=2023.5.0 in c:\\users\\lenovo\\anaconda3\\lib\\site-packages (from huggingface-hub<1.0,>=0.16.4->tokenizers<=0.20.3,>=0.13.2->chromadb) (2024.6.1)\n",
      "Requirement already satisfied: packaging>=20.9 in c:\\users\\lenovo\\appdata\\roaming\\python\\python312\\site-packages (from huggingface-hub<1.0,>=0.16.4->tokenizers<=0.20.3,>=0.13.2->chromadb) (24.2)\n",
      "Requirement already satisfied: requests in c:\\users\\lenovo\\appdata\\roaming\\python\\python312\\site-packages (from huggingface-hub<1.0,>=0.16.4->tokenizers<=0.20.3,>=0.13.2->chromadb) (2.32.3)\n",
      "Requirement already satisfied: langchain-core<1.0.0,>=0.3.49 in c:\\users\\lenovo\\anaconda3\\lib\\site-packages (from langchain) (0.3.50)\n",
      "Requirement already satisfied: langchain-text-splitters<1.0.0,>=0.3.7 in c:\\users\\lenovo\\anaconda3\\lib\\site-packages (from langchain) (0.3.7)\n",
      "Requirement already satisfied: langsmith<0.4,>=0.1.17 in c:\\users\\lenovo\\appdata\\roaming\\python\\python312\\site-packages (from langchain) (0.3.42)\n",
      "Requirement already satisfied: SQLAlchemy<3,>=1.4 in c:\\users\\lenovo\\anaconda3\\lib\\site-packages (from langchain) (2.0.34)\n",
      "Requirement already satisfied: jsonpatch<2.0,>=1.33 in c:\\users\\lenovo\\appdata\\roaming\\python\\python312\\site-packages (from langchain-core<1.0.0,>=0.3.49->langchain) (1.33)\n",
      "Requirement already satisfied: jsonpointer>=1.9 in c:\\users\\lenovo\\appdata\\roaming\\python\\python312\\site-packages (from jsonpatch<2.0,>=1.33->langchain-core<1.0.0,>=0.3.49->langchain) (3.0.0)\n",
      "Requirement already satisfied: requests-toolbelt<2.0.0,>=1.0.0 in c:\\users\\lenovo\\appdata\\roaming\\python\\python312\\site-packages (from langsmith<0.4,>=0.1.17->langchain) (1.0.0)\n",
      "Requirement already satisfied: zstandard<0.24.0,>=0.23.0 in c:\\users\\lenovo\\appdata\\roaming\\python\\python312\\site-packages (from langsmith<0.4,>=0.1.17->langchain) (0.23.0)\n",
      "Requirement already satisfied: anyio in c:\\users\\lenovo\\appdata\\roaming\\python\\python312\\site-packages (from httpx>=0.27.0->chromadb) (4.9.0)\n",
      "Requirement already satisfied: certifi in c:\\users\\lenovo\\appdata\\roaming\\python\\python312\\site-packages (from httpx>=0.27.0->chromadb) (2024.8.30)\n",
      "Requirement already satisfied: httpcore==1.* in c:\\users\\lenovo\\appdata\\roaming\\python\\python312\\site-packages (from httpx>=0.27.0->chromadb) (1.0.9)\n",
      "Requirement already satisfied: idna in c:\\users\\lenovo\\appdata\\roaming\\python\\python312\\site-packages (from httpx>=0.27.0->chromadb) (3.10)\n",
      "Requirement already satisfied: h11>=0.16 in c:\\users\\lenovo\\appdata\\roaming\\python\\python312\\site-packages (from httpcore==1.*->httpx>=0.27.0->chromadb) (0.16.0)\n",
      "Requirement already satisfied: annotated-types>=0.6.0 in c:\\users\\lenovo\\appdata\\roaming\\python\\python312\\site-packages (from pydantic>=1.9->chromadb) (0.7.0)\n",
      "Requirement already satisfied: pydantic-core==2.33.2 in c:\\users\\lenovo\\appdata\\roaming\\python\\python312\\site-packages (from pydantic>=1.9->chromadb) (2.33.2)\n",
      "Requirement already satisfied: typing-inspection>=0.4.0 in c:\\users\\lenovo\\appdata\\roaming\\python\\python312\\site-packages (from pydantic>=1.9->chromadb) (0.4.0)\n",
      "Requirement already satisfied: charset-normalizer<4,>=2 in c:\\users\\lenovo\\appdata\\roaming\\python\\python312\\site-packages (from requests->huggingface-hub<1.0,>=0.16.4->tokenizers<=0.20.3,>=0.13.2->chromadb) (3.4.0)\n",
      "Requirement already satisfied: urllib3<3,>=1.21.1 in c:\\users\\lenovo\\appdata\\roaming\\python\\python312\\site-packages (from requests->huggingface-hub<1.0,>=0.16.4->tokenizers<=0.20.3,>=0.13.2->chromadb) (2.2.3)\n",
      "Requirement already satisfied: greenlet!=0.4.17 in c:\\users\\lenovo\\anaconda3\\lib\\site-packages (from SQLAlchemy<3,>=1.4->langchain) (3.0.1)\n",
      "Requirement already satisfied: distro<2,>=1.7.0 in c:\\users\\lenovo\\appdata\\roaming\\python\\python312\\site-packages (from openai) (1.9.0)\n",
      "Requirement already satisfied: jiter<1,>=0.4.0 in c:\\users\\lenovo\\anaconda3\\lib\\site-packages (from openai) (0.7.1)\n",
      "Requirement already satisfied: sniffio in c:\\users\\lenovo\\appdata\\roaming\\python\\python312\\site-packages (from openai) (1.3.1)\n",
      "Collecting starlette<0.46.0,>=0.40.0 (from fastapi>=0.95.2->chromadb)\n",
      "  Using cached starlette-0.45.3-py3-none-any.whl.metadata (6.3 kB)\n",
      "Collecting clickhouse-connect==0.6.6 (from chroma-migrate)\n",
      "  Using cached clickhouse_connect-0.6.6-py3-none-any.whl\n",
      "Collecting duckdb==0.7.1 (from chroma-migrate)\n",
      "  Using cached duckdb-0.7.1.tar.gz (10.5 MB)\n",
      "  Preparing metadata (setup.py): started\n",
      "  Preparing metadata (setup.py): finished with status 'done'\n",
      "Collecting chroma-bullet (from chroma-migrate)\n",
      "  Using cached chroma_bullet-2.2.0-py3-none-any.whl.metadata (425 bytes)\n",
      "Requirement already satisfied: more-itertools>=9.1.0 in c:\\users\\lenovo\\anaconda3\\lib\\site-packages (from chroma-migrate) (10.3.0)\n",
      "Requirement already satisfied: importlib_metadata in c:\\users\\lenovo\\anaconda3\\lib\\site-packages (from clickhouse-connect==0.6.6->chroma-migrate) (7.0.1)\n",
      "Requirement already satisfied: pytz in c:\\users\\lenovo\\anaconda3\\lib\\site-packages (from clickhouse-connect==0.6.6->chroma-migrate) (2024.2)\n",
      "Requirement already satisfied: lz4 in c:\\users\\lenovo\\anaconda3\\lib\\site-packages (from clickhouse-connect==0.6.6->chroma-migrate) (4.3.2)\n",
      "Requirement already satisfied: pyproject_hooks in c:\\users\\lenovo\\anaconda3\\lib\\site-packages (from build>=1.0.3->chromadb) (1.2.0)\n",
      "Requirement already satisfied: colorama in c:\\users\\lenovo\\appdata\\roaming\\python\\python312\\site-packages (from build>=1.0.3->chromadb) (0.4.6)\n",
      "Requirement already satisfied: six>=1.9.0 in c:\\users\\lenovo\\appdata\\roaming\\python\\python312\\site-packages (from kubernetes>=28.1.0->chromadb) (1.17.0)\n",
      "Requirement already satisfied: python-dateutil>=2.5.3 in c:\\users\\lenovo\\appdata\\roaming\\python\\python312\\site-packages (from kubernetes>=28.1.0->chromadb) (2.9.0.post0)\n",
      "Requirement already satisfied: google-auth>=1.0.1 in c:\\users\\lenovo\\anaconda3\\lib\\site-packages (from kubernetes>=28.1.0->chromadb) (2.36.0)\n",
      "Requirement already satisfied: websocket-client!=0.40.0,!=0.41.*,!=0.42.*,>=0.32.0 in c:\\users\\lenovo\\anaconda3\\lib\\site-packages (from kubernetes>=28.1.0->chromadb) (1.8.0)\n",
      "Requirement already satisfied: requests-oauthlib in c:\\users\\lenovo\\anaconda3\\lib\\site-packages (from kubernetes>=28.1.0->chromadb) (2.0.0)\n",
      "Requirement already satisfied: oauthlib>=3.2.2 in c:\\users\\lenovo\\anaconda3\\lib\\site-packages (from kubernetes>=28.1.0->chromadb) (3.2.2)\n",
      "Requirement already satisfied: durationpy>=0.7 in c:\\users\\lenovo\\anaconda3\\lib\\site-packages (from kubernetes>=28.1.0->chromadb) (0.9)\n",
      "Requirement already satisfied: cachetools<6.0,>=2.0.0 in c:\\users\\lenovo\\anaconda3\\lib\\site-packages (from google-auth>=1.0.1->kubernetes>=28.1.0->chromadb) (5.3.3)\n",
      "Requirement already satisfied: pyasn1-modules>=0.2.1 in c:\\users\\lenovo\\anaconda3\\lib\\site-packages (from google-auth>=1.0.1->kubernetes>=28.1.0->chromadb) (0.2.8)\n",
      "Requirement already satisfied: rsa<5,>=3.1.4 in c:\\users\\lenovo\\anaconda3\\lib\\site-packages (from google-auth>=1.0.1->kubernetes>=28.1.0->chromadb) (4.9)\n",
      "Requirement already satisfied: pyasn1>=0.1.3 in c:\\users\\lenovo\\anaconda3\\lib\\site-packages (from rsa<5,>=3.1.4->google-auth>=1.0.1->kubernetes>=28.1.0->chromadb) (0.4.8)\n",
      "Requirement already satisfied: coloredlogs in c:\\users\\lenovo\\anaconda3\\lib\\site-packages (from onnxruntime>=1.14.1->chromadb) (15.0.1)\n",
      "Requirement already satisfied: flatbuffers in c:\\users\\lenovo\\anaconda3\\lib\\site-packages (from onnxruntime>=1.14.1->chromadb) (24.3.25)\n",
      "Requirement already satisfied: protobuf in c:\\users\\lenovo\\anaconda3\\lib\\site-packages (from onnxruntime>=1.14.1->chromadb) (5.28.3)\n",
      "Requirement already satisfied: sympy in c:\\users\\lenovo\\anaconda3\\lib\\site-packages (from onnxruntime>=1.14.1->chromadb) (1.13.1)\n",
      "Requirement already satisfied: deprecated>=1.2.6 in c:\\users\\lenovo\\anaconda3\\lib\\site-packages (from opentelemetry-api>=1.2.0->chromadb) (1.2.14)\n",
      "Requirement already satisfied: zipp>=0.5 in c:\\users\\lenovo\\anaconda3\\lib\\site-packages (from importlib_metadata->clickhouse-connect==0.6.6->chroma-migrate) (3.17.0)\n",
      "Requirement already satisfied: wrapt<2,>=1.10 in c:\\users\\lenovo\\anaconda3\\lib\\site-packages (from deprecated>=1.2.6->opentelemetry-api>=1.2.0->chromadb) (1.14.1)\n",
      "Requirement already satisfied: googleapis-common-protos~=1.52 in c:\\users\\lenovo\\anaconda3\\lib\\site-packages (from opentelemetry-exporter-otlp-proto-grpc>=1.2.0->chromadb) (1.66.0)\n",
      "Requirement already satisfied: opentelemetry-exporter-otlp-proto-common==1.31.1 in c:\\users\\lenovo\\anaconda3\\lib\\site-packages (from opentelemetry-exporter-otlp-proto-grpc>=1.2.0->chromadb) (1.31.1)\n",
      "Requirement already satisfied: opentelemetry-proto==1.31.1 in c:\\users\\lenovo\\anaconda3\\lib\\site-packages (from opentelemetry-exporter-otlp-proto-grpc>=1.2.0->chromadb) (1.31.1)\n",
      "Requirement already satisfied: opentelemetry-semantic-conventions==0.52b1 in c:\\users\\lenovo\\anaconda3\\lib\\site-packages (from opentelemetry-sdk>=1.2.0->chromadb) (0.52b1)\n",
      "Requirement already satisfied: opentelemetry-instrumentation-asgi==0.52b1 in c:\\users\\lenovo\\anaconda3\\lib\\site-packages (from opentelemetry-instrumentation-fastapi>=0.41b0->chromadb) (0.52b1)\n",
      "Requirement already satisfied: opentelemetry-instrumentation==0.52b1 in c:\\users\\lenovo\\anaconda3\\lib\\site-packages (from opentelemetry-instrumentation-fastapi>=0.41b0->chromadb) (0.52b1)\n",
      "Requirement already satisfied: opentelemetry-util-http==0.52b1 in c:\\users\\lenovo\\anaconda3\\lib\\site-packages (from opentelemetry-instrumentation-fastapi>=0.41b0->chromadb) (0.52b1)\n",
      "Requirement already satisfied: asgiref~=3.0 in c:\\users\\lenovo\\anaconda3\\lib\\site-packages (from opentelemetry-instrumentation-asgi==0.52b1->opentelemetry-instrumentation-fastapi>=0.41b0->chromadb) (3.8.1)\n",
      "Requirement already satisfied: monotonic>=1.5 in c:\\users\\lenovo\\anaconda3\\lib\\site-packages (from posthog>=2.4.0->chromadb) (1.6)\n",
      "Requirement already satisfied: backoff>=1.10.0 in c:\\users\\lenovo\\anaconda3\\lib\\site-packages (from posthog>=2.4.0->chromadb) (2.2.1)\n",
      "Requirement already satisfied: markdown-it-py>=2.2.0 in c:\\users\\lenovo\\anaconda3\\lib\\site-packages (from rich>=10.11.0->chromadb) (2.2.0)\n",
      "Requirement already satisfied: pygments<3.0.0,>=2.13.0 in c:\\users\\lenovo\\anaconda3\\lib\\site-packages (from rich>=10.11.0->chromadb) (2.15.1)\n",
      "Requirement already satisfied: mdurl~=0.1 in c:\\users\\lenovo\\anaconda3\\lib\\site-packages (from markdown-it-py>=2.2.0->rich>=10.11.0->chromadb) (0.1.0)\n",
      "Requirement already satisfied: click>=8.0.0 in c:\\users\\lenovo\\appdata\\roaming\\python\\python312\\site-packages (from typer>=0.9.0->chromadb) (8.1.8)\n",
      "Requirement already satisfied: shellingham>=1.3.0 in c:\\users\\lenovo\\anaconda3\\lib\\site-packages (from typer>=0.9.0->chromadb) (1.5.4)\n",
      "Requirement already satisfied: httptools>=0.5.0 in c:\\users\\lenovo\\anaconda3\\lib\\site-packages (from uvicorn[standard]>=0.18.3->chromadb) (0.6.4)\n",
      "Requirement already satisfied: python-dotenv>=0.13 in c:\\users\\lenovo\\appdata\\roaming\\python\\python312\\site-packages (from uvicorn[standard]>=0.18.3->chromadb) (1.0.1)\n",
      "Requirement already satisfied: watchfiles>=0.13 in c:\\users\\lenovo\\anaconda3\\lib\\site-packages (from uvicorn[standard]>=0.18.3->chromadb) (0.24.0)\n",
      "Requirement already satisfied: websockets>=10.4 in c:\\users\\lenovo\\anaconda3\\lib\\site-packages (from uvicorn[standard]>=0.18.3->chromadb) (14.1)\n",
      "Requirement already satisfied: humanfriendly>=9.1 in c:\\users\\lenovo\\anaconda3\\lib\\site-packages (from coloredlogs->onnxruntime>=1.14.1->chromadb) (10.0)\n",
      "Requirement already satisfied: pyreadline3 in c:\\users\\lenovo\\anaconda3\\lib\\site-packages (from humanfriendly>=9.1->coloredlogs->onnxruntime>=1.14.1->chromadb) (3.5.4)\n",
      "Requirement already satisfied: mpmath<1.4,>=1.1.0 in c:\\users\\lenovo\\anaconda3\\lib\\site-packages (from sympy->onnxruntime>=1.14.1->chromadb) (1.3.0)\n",
      "Using cached starlette-0.45.3-py3-none-any.whl (71 kB)\n",
      "Using cached chroma_migrate-0.0.7-py3-none-any.whl (12 kB)\n",
      "Using cached chroma_bullet-2.2.0-py3-none-any.whl (11 kB)\n",
      "Building wheels for collected packages: duckdb\n",
      "  Building wheel for duckdb (setup.py): started\n",
      "  Building wheel for duckdb (setup.py): finished with status 'error'\n",
      "  Running setup.py clean for duckdb\n",
      "Failed to build duckdb\n"
     ]
    },
    {
     "name": "stderr",
     "output_type": "stream",
     "text": [
      "WARNING: Ignoring invalid distribution ~cipy (C:\\Users\\lenovo\\anaconda3\\Lib\\site-packages)\n",
      "  DEPRECATION: Building 'duckdb' using the legacy setup.py bdist_wheel mechanism, which will be removed in a future version. pip 25.3 will enforce this behaviour change. A possible replacement is to use the standardized build interface by setting the `--use-pep517` option, (possibly combined with `--no-build-isolation`), or adding a `pyproject.toml` file to the source tree of 'duckdb'. Discussion can be found at https://github.com/pypa/pip/issues/6334\n",
      "  error: subprocess-exited-with-error\n",
      "  \n",
      "  python setup.py bdist_wheel did not run successfully.\n",
      "  exit code: 1\n",
      "  \n",
      "  [142 lines of output]\n",
      "  C:\\Users\\lenovo\\anaconda3\\Lib\\site-packages\\setuptools\\__init__.py:94: _DeprecatedInstaller: setuptools.installer and fetch_build_eggs are deprecated.\n",
      "  !!\n",
      "  \n",
      "          ********************************************************************************\n",
      "          Requirements should be satisfied by a PEP 517 installer.\n",
      "          If you are using pip, you can try `pip install --use-pep517`.\n",
      "          ********************************************************************************\n",
      "  \n",
      "  !!\n",
      "    dist.fetch_build_eggs(dist.setup_requires)\n",
      "  C:\\Users\\lenovo\\anaconda3\\Lib\\site-packages\\setuptools\\_distutils\\dist.py:289: UserWarning: Unknown distribution option: 'tests_require'\n",
      "    warnings.warn(msg)\n",
      "  C:\\Users\\lenovo\\anaconda3\\Lib\\site-packages\\setuptools\\dist.py:761: SetuptoolsDeprecationWarning: License classifiers are deprecated.\n",
      "  !!\n",
      "  \n",
      "          ********************************************************************************\n",
      "          Please consider removing the following classifiers in favor of a SPDX license expression:\n",
      "  \n",
      "          License :: OSI Approved :: MIT License\n",
      "  \n",
      "          See https://packaging.python.org/en/latest/guides/writing-pyproject-toml/#license for details.\n",
      "          ********************************************************************************\n",
      "  \n",
      "  !!\n",
      "    self._finalize_license_expression()\n",
      "  running bdist_wheel\n",
      "  running build\n",
      "  running build_py\n",
      "  creating build\\lib.win-amd64-cpython-312\\duckdb_query_graph\n",
      "  copying duckdb_query_graph\\__init__.py -> build\\lib.win-amd64-cpython-312\\duckdb_query_graph\n",
      "  running egg_info\n",
      "  writing duckdb.egg-info\\PKG-INFO\n",
      "  writing dependency_links to duckdb.egg-info\\dependency_links.txt\n",
      "  writing top-level names to duckdb.egg-info\\top_level.txt\n",
      "  listing git files failed - pretending there aren't any\n",
      "  reading manifest file 'duckdb.egg-info\\SOURCES.txt'\n",
      "  reading manifest template 'MANIFEST.in'\n",
      "  warning: no files found matching '*.h' under directory 'src'\n",
      "  writing manifest file 'duckdb.egg-info\\SOURCES.txt'\n",
      "  copying duckdb_query_graph\\parse_profiling_output.js -> build\\lib.win-amd64-cpython-312\\duckdb_query_graph\n",
      "  copying duckdb_query_graph\\query_graph.css -> build\\lib.win-amd64-cpython-312\\duckdb_query_graph\n",
      "  copying duckdb_query_graph\\raphael.js -> build\\lib.win-amd64-cpython-312\\duckdb_query_graph\n",
      "  copying duckdb_query_graph\\treant.js -> build\\lib.win-amd64-cpython-312\\duckdb_query_graph\n",
      "  creating build\\lib.win-amd64-cpython-312\\duckdb-stubs\n",
      "  copying duckdb-stubs\\__init__.pyi -> build\\lib.win-amd64-cpython-312\\duckdb-stubs\n",
      "  running build_ext\n",
      "  building 'duckdb' extension\n",
      "  creating build\\temp.win-amd64-cpython-312\\Release\\duckdb\\extension\\excel\n",
      "  creating build\\temp.win-amd64-cpython-312\\Release\\duckdb\\extension\\excel\\numformat\n",
      "  creating build\\temp.win-amd64-cpython-312\\Release\\duckdb\\extension\\fts\n",
      "  creating build\\temp.win-amd64-cpython-312\\Release\\duckdb\\extension\\icu\n",
      "  creating build\\temp.win-amd64-cpython-312\\Release\\duckdb\\extension\\icu\\third_party\\icu\\stubdata\n",
      "  creating build\\temp.win-amd64-cpython-312\\Release\\duckdb\\extension\\jemalloc\n",
      "  creating build\\temp.win-amd64-cpython-312\\Release\\duckdb\\extension\\jemalloc\\jemalloc\\src\n",
      "  creating build\\temp.win-amd64-cpython-312\\Release\\duckdb\\extension\\json\n",
      "  creating build\\temp.win-amd64-cpython-312\\Release\\duckdb\\extension\\json\\yyjson\n",
      "  creating build\\temp.win-amd64-cpython-312\\Release\\duckdb\\extension\\parquet\n",
      "  creating build\\temp.win-amd64-cpython-312\\Release\\duckdb\\extension\\tpcds\\dsdgen\n",
      "  creating build\\temp.win-amd64-cpython-312\\Release\\duckdb\\extension\\tpcds\\dsdgen\\dsdgen-c\n",
      "  creating build\\temp.win-amd64-cpython-312\\Release\\duckdb\\extension\\tpch\\dbgen\n",
      "  creating build\\temp.win-amd64-cpython-312\\Release\\duckdb\\extension\\visualizer\n",
      "  creating build\\temp.win-amd64-cpython-312\\Release\\duckdb\\src\\common\\vector_operations\n",
      "  creating build\\temp.win-amd64-cpython-312\\Release\\duckdb\\src\\verification\n",
      "  creating build\\temp.win-amd64-cpython-312\\Release\\duckdb\\third_party\\fastpforlib\n",
      "  creating build\\temp.win-amd64-cpython-312\\Release\\duckdb\\third_party\\fmt\n",
      "  creating build\\temp.win-amd64-cpython-312\\Release\\duckdb\\third_party\\fsst\n",
      "  creating build\\temp.win-amd64-cpython-312\\Release\\duckdb\\third_party\\hyperloglog\n",
      "  creating build\\temp.win-amd64-cpython-312\\Release\\duckdb\\third_party\\libpg_query\n",
      "  creating build\\temp.win-amd64-cpython-312\\Release\\duckdb\\third_party\\mbedtls\\library\n",
      "  creating build\\temp.win-amd64-cpython-312\\Release\\duckdb\\third_party\\miniz\n",
      "  creating build\\temp.win-amd64-cpython-312\\Release\\duckdb\\third_party\\parquet\n",
      "  creating build\\temp.win-amd64-cpython-312\\Release\\duckdb\\third_party\\re2\\re2\n",
      "  creating build\\temp.win-amd64-cpython-312\\Release\\duckdb\\third_party\\re2\\util\n",
      "  creating build\\temp.win-amd64-cpython-312\\Release\\duckdb\\third_party\\snappy\n",
      "  creating build\\temp.win-amd64-cpython-312\\Release\\duckdb\\third_party\\snowball\\libstemmer\n",
      "  creating build\\temp.win-amd64-cpython-312\\Release\\duckdb\\third_party\\snowball\\runtime\n",
      "  creating build\\temp.win-amd64-cpython-312\\Release\\duckdb\\third_party\\snowball\\src_c\n",
      "  creating build\\temp.win-amd64-cpython-312\\Release\\duckdb\\third_party\\thrift\\thrift\\protocol\n",
      "  creating build\\temp.win-amd64-cpython-312\\Release\\duckdb\\third_party\\thrift\\thrift\\transport\n",
      "  creating build\\temp.win-amd64-cpython-312\\Release\\duckdb\\third_party\\utf8proc\n",
      "  creating build\\temp.win-amd64-cpython-312\\Release\\duckdb\\third_party\\zstd\\common\n",
      "  creating build\\temp.win-amd64-cpython-312\\Release\\duckdb\\third_party\\zstd\\compress\n",
      "  creating build\\temp.win-amd64-cpython-312\\Release\\duckdb\\third_party\\zstd\\decompress\n",
      "  creating build\\temp.win-amd64-cpython-312\\Release\\src\n",
      "  creating build\\temp.win-amd64-cpython-312\\Release\\src\\common\n",
      "  creating build\\temp.win-amd64-cpython-312\\Release\\src\\jupyter\n",
      "  creating build\\temp.win-amd64-cpython-312\\Release\\src\\pandas\n",
      "  creating build\\temp.win-amd64-cpython-312\\Release\\src\\pyduckdb\n",
      "  creating build\\temp.win-amd64-cpython-312\\Release\\src\\pyrelation\n",
      "  \"C:\\Program Files (x86)\\Microsoft Visual Studio\\2022\\BuildTools\\VC\\Tools\\MSVC\\14.41.34120\\bin\\HostX86\\x64\\cl.exe\" /c /nologo /O2 /W3 /GL /DNDEBUG /MD -Iduckdb/src/include -Iduckdb/third_party/fmt/include -Iduckdb/third_party/fsst -Iduckdb/third_party/re2 -Iduckdb/third_party/miniz -Iduckdb/third_party/utf8proc/include -Iduckdb/third_party/utf8proc -Iduckdb/third_party/hyperloglog -Iduckdb/third_party/fastpforlib -Iduckdb/third_party/tdigest -Iduckdb/third_party/libpg_query/include -Iduckdb/third_party/libpg_query -Iduckdb/third_party/concurrentqueue -Iduckdb/third_party/pcg -Iduckdb/third_party/httplib -Iduckdb/third_party/fast_float -Iduckdb/third_party/mbedtls -Iduckdb/third_party/mbedtls/include -Iduckdb/third_party/mbedtls/library -Iduckdb/third_party/jaro_winkler -Iduckdb/third_party/jaro_winkler/details -Iduckdb/extension/parquet/include -Iduckdb/third_party/parquet -Iduckdb/third_party/snappy -Iduckdb/third_party/thrift -Iduckdb/third_party/zstd/include -Iduckdb/extension/icu/include -Iduckdb/extension/icu/third_party/icu/common -Iduckdb/extension/icu/third_party/icu/i18n -Iduckdb/extension/fts/include -Iduckdb/third_party/snowball/libstemmer -Iduckdb/third_party/snowball/runtime -Iduckdb/third_party/snowball/src_c -Iduckdb/extension/tpch/include -Iduckdb/extension/tpch/dbgen/include -Iduckdb/extension/tpcds/include -Iduckdb/extension/tpcds/dsdgen/include -Iduckdb/extension/tpcds/dsdgen/include/dsdgen-c -Iduckdb/extension/visualizer/include -Iduckdb/extension/json/include -Iduckdb/extension/json/yyjson/include -Iduckdb/extension/excel/include -Iduckdb/extension/excel/numformat/include -Iduckdb/extension/jemalloc/include -Iduckdb/extension/jemalloc/jemalloc/include -Iduckdb -IC:\\Users\\lenovo\\AppData\\Local\\Temp\\pip-install-dxp8uls1\\duckdb_bbe5f2a007fd4a1a968bb97851f2ff92\\src\\include -Ic:\\users\\lenovo\\appdata\\local\\temp\\pip-install-dxp8uls1\\duckdb_bbe5f2a007fd4a1a968bb97851f2ff92\\.eggs\\pybind11-2.13.6-py3.12.egg\\pybind11\\include -Ic:\\users\\lenovo\\appdata\\local\\temp\\pip-install-dxp8uls1\\duckdb_bbe5f2a007fd4a1a968bb97851f2ff92\\.eggs\\pybind11-2.13.6-py3.12.egg\\pybind11\\include -IC:\\Users\\lenovo\\anaconda3\\include -IC:\\Users\\lenovo\\anaconda3\\Include \"-IC:\\Program Files (x86)\\Microsoft Visual Studio\\2022\\BuildTools\\VC\\Tools\\MSVC\\14.41.34120\\include\" \"-IC:\\Program Files (x86)\\Microsoft Visual Studio\\2022\\BuildTools\\VC\\Auxiliary\\VS\\include\" \"-IC:\\Program Files (x86)\\Windows Kits\\10\\include\\10.0.22621.0\\ucrt\" \"-IC:\\Program Files (x86)\\Windows Kits\\10\\\\include\\10.0.22621.0\\\\um\" \"-IC:\\Program Files (x86)\\Windows Kits\\10\\\\include\\10.0.22621.0\\\\shared\" \"-IC:\\Program Files (x86)\\Windows Kits\\10\\\\include\\10.0.22621.0\\\\winrt\" \"-IC:\\Program Files (x86)\\Windows Kits\\10\\\\include\\10.0.22621.0\\\\cppwinrt\" \"-IC:\\Program Files (x86)\\Windows Kits\\NETFXSDK\\4.8\\include\\um\" /EHsc /Tpduckdb/extension/excel/excel-extension.cpp /Fobuild\\temp.win-amd64-cpython-312\\Release\\duckdb\\extension\\excel\\excel-extension.obj /wd4244 /wd4267 /wd4200 /wd26451 /wd26495 /D_CRT_SECURE_NO_WARNINGS /utf-8 -DDUCKDB_PYTHON_LIB_NAME=duckdb -DDUCKDB_BUILD_LIBRARY -DWIN32 -DBUILD_PARQUET_EXTENSION -DBUILD_ICU_EXTENSION -DBUILD_FTS_EXTENSION -DBUILD_TPCH_EXTENSION -DBUILD_JSON_EXTENSION -DBUILD_EXCEL_EXTENSION\n",
      "  excel-extension.cpp\n",
      "  \"C:\\Program Files (x86)\\Microsoft Visual Studio\\2022\\BuildTools\\VC\\Tools\\MSVC\\14.41.34120\\bin\\HostX86\\x64\\cl.exe\" /c /nologo /O2 /W3 /GL /DNDEBUG /MD -Iduckdb/src/include -Iduckdb/third_party/fmt/include -Iduckdb/third_party/fsst -Iduckdb/third_party/re2 -Iduckdb/third_party/miniz -Iduckdb/third_party/utf8proc/include -Iduckdb/third_party/utf8proc -Iduckdb/third_party/hyperloglog -Iduckdb/third_party/fastpforlib -Iduckdb/third_party/tdigest -Iduckdb/third_party/libpg_query/include -Iduckdb/third_party/libpg_query -Iduckdb/third_party/concurrentqueue -Iduckdb/third_party/pcg -Iduckdb/third_party/httplib -Iduckdb/third_party/fast_float -Iduckdb/third_party/mbedtls -Iduckdb/third_party/mbedtls/include -Iduckdb/third_party/mbedtls/library -Iduckdb/third_party/jaro_winkler -Iduckdb/third_party/jaro_winkler/details -Iduckdb/extension/parquet/include -Iduckdb/third_party/parquet -Iduckdb/third_party/snappy -Iduckdb/third_party/thrift -Iduckdb/third_party/zstd/include -Iduckdb/extension/icu/include -Iduckdb/extension/icu/third_party/icu/common -Iduckdb/extension/icu/third_party/icu/i18n -Iduckdb/extension/fts/include -Iduckdb/third_party/snowball/libstemmer -Iduckdb/third_party/snowball/runtime -Iduckdb/third_party/snowball/src_c -Iduckdb/extension/tpch/include -Iduckdb/extension/tpch/dbgen/include -Iduckdb/extension/tpcds/include -Iduckdb/extension/tpcds/dsdgen/include -Iduckdb/extension/tpcds/dsdgen/include/dsdgen-c -Iduckdb/extension/visualizer/include -Iduckdb/extension/json/include -Iduckdb/extension/json/yyjson/include -Iduckdb/extension/excel/include -Iduckdb/extension/excel/numformat/include -Iduckdb/extension/jemalloc/include -Iduckdb/extension/jemalloc/jemalloc/include -Iduckdb -IC:\\Users\\lenovo\\AppData\\Local\\Temp\\pip-install-dxp8uls1\\duckdb_bbe5f2a007fd4a1a968bb97851f2ff92\\src\\include -Ic:\\users\\lenovo\\appdata\\local\\temp\\pip-install-dxp8uls1\\duckdb_bbe5f2a007fd4a1a968bb97851f2ff92\\.eggs\\pybind11-2.13.6-py3.12.egg\\pybind11\\include -Ic:\\users\\lenovo\\appdata\\local\\temp\\pip-install-dxp8uls1\\duckdb_bbe5f2a007fd4a1a968bb97851f2ff92\\.eggs\\pybind11-2.13.6-py3.12.egg\\pybind11\\include -IC:\\Users\\lenovo\\anaconda3\\include -IC:\\Users\\lenovo\\anaconda3\\Include \"-IC:\\Program Files (x86)\\Microsoft Visual Studio\\2022\\BuildTools\\VC\\Tools\\MSVC\\14.41.34120\\include\" \"-IC:\\Program Files (x86)\\Microsoft Visual Studio\\2022\\BuildTools\\VC\\Auxiliary\\VS\\include\" \"-IC:\\Program Files (x86)\\Windows Kits\\10\\include\\10.0.22621.0\\ucrt\" \"-IC:\\Program Files (x86)\\Windows Kits\\10\\\\include\\10.0.22621.0\\\\um\" \"-IC:\\Program Files (x86)\\Windows Kits\\10\\\\include\\10.0.22621.0\\\\shared\" \"-IC:\\Program Files (x86)\\Windows Kits\\10\\\\include\\10.0.22621.0\\\\winrt\" \"-IC:\\Program Files (x86)\\Windows Kits\\10\\\\include\\10.0.22621.0\\\\cppwinrt\" \"-IC:\\Program Files (x86)\\Windows Kits\\NETFXSDK\\4.8\\include\\um\" /EHsc /Tpduckdb/extension/excel/numformat/nf_calendar.cpp /Fobuild\\temp.win-amd64-cpython-312\\Release\\duckdb\\extension\\excel\\numformat\\nf_calendar.obj /wd4244 /wd4267 /wd4200 /wd26451 /wd26495 /D_CRT_SECURE_NO_WARNINGS /utf-8 -DDUCKDB_PYTHON_LIB_NAME=duckdb -DDUCKDB_BUILD_LIBRARY -DWIN32 -DBUILD_PARQUET_EXTENSION -DBUILD_ICU_EXTENSION -DBUILD_FTS_EXTENSION -DBUILD_TPCH_EXTENSION -DBUILD_JSON_EXTENSION -DBUILD_EXCEL_EXTENSION\n",
      "  nf_calendar.cpp\n",
      "  duckdb/extension/excel/numformat/nf_calendar.cpp(735): warning C4101: 'aTime': unreferenced local variable\n",
      "  \"C:\\Program Files (x86)\\Microsoft Visual Studio\\2022\\BuildTools\\VC\\Tools\\MSVC\\14.41.34120\\bin\\HostX86\\x64\\cl.exe\" /c /nologo /O2 /W3 /GL /DNDEBUG /MD -Iduckdb/src/include -Iduckdb/third_party/fmt/include -Iduckdb/third_party/fsst -Iduckdb/third_party/re2 -Iduckdb/third_party/miniz -Iduckdb/third_party/utf8proc/include -Iduckdb/third_party/utf8proc -Iduckdb/third_party/hyperloglog -Iduckdb/third_party/fastpforlib -Iduckdb/third_party/tdigest -Iduckdb/third_party/libpg_query/include -Iduckdb/third_party/libpg_query -Iduckdb/third_party/concurrentqueue -Iduckdb/third_party/pcg -Iduckdb/third_party/httplib -Iduckdb/third_party/fast_float -Iduckdb/third_party/mbedtls -Iduckdb/third_party/mbedtls/include -Iduckdb/third_party/mbedtls/library -Iduckdb/third_party/jaro_winkler -Iduckdb/third_party/jaro_winkler/details -Iduckdb/extension/parquet/include -Iduckdb/third_party/parquet -Iduckdb/third_party/snappy -Iduckdb/third_party/thrift -Iduckdb/third_party/zstd/include -Iduckdb/extension/icu/include -Iduckdb/extension/icu/third_party/icu/common -Iduckdb/extension/icu/third_party/icu/i18n -Iduckdb/extension/fts/include -Iduckdb/third_party/snowball/libstemmer -Iduckdb/third_party/snowball/runtime -Iduckdb/third_party/snowball/src_c -Iduckdb/extension/tpch/include -Iduckdb/extension/tpch/dbgen/include -Iduckdb/extension/tpcds/include -Iduckdb/extension/tpcds/dsdgen/include -Iduckdb/extension/tpcds/dsdgen/include/dsdgen-c -Iduckdb/extension/visualizer/include -Iduckdb/extension/json/include -Iduckdb/extension/json/yyjson/include -Iduckdb/extension/excel/include -Iduckdb/extension/excel/numformat/include -Iduckdb/extension/jemalloc/include -Iduckdb/extension/jemalloc/jemalloc/include -Iduckdb -IC:\\Users\\lenovo\\AppData\\Local\\Temp\\pip-install-dxp8uls1\\duckdb_bbe5f2a007fd4a1a968bb97851f2ff92\\src\\include -Ic:\\users\\lenovo\\appdata\\local\\temp\\pip-install-dxp8uls1\\duckdb_bbe5f2a007fd4a1a968bb97851f2ff92\\.eggs\\pybind11-2.13.6-py3.12.egg\\pybind11\\include -Ic:\\users\\lenovo\\appdata\\local\\temp\\pip-install-dxp8uls1\\duckdb_bbe5f2a007fd4a1a968bb97851f2ff92\\.eggs\\pybind11-2.13.6-py3.12.egg\\pybind11\\include -IC:\\Users\\lenovo\\anaconda3\\include -IC:\\Users\\lenovo\\anaconda3\\Include \"-IC:\\Program Files (x86)\\Microsoft Visual Studio\\2022\\BuildTools\\VC\\Tools\\MSVC\\14.41.34120\\include\" \"-IC:\\Program Files (x86)\\Microsoft Visual Studio\\2022\\BuildTools\\VC\\Auxiliary\\VS\\include\" \"-IC:\\Program Files (x86)\\Windows Kits\\10\\include\\10.0.22621.0\\ucrt\" \"-IC:\\Program Files (x86)\\Windows Kits\\10\\\\include\\10.0.22621.0\\\\um\" \"-IC:\\Program Files (x86)\\Windows Kits\\10\\\\include\\10.0.22621.0\\\\shared\" \"-IC:\\Program Files (x86)\\Windows Kits\\10\\\\include\\10.0.22621.0\\\\winrt\" \"-IC:\\Program Files (x86)\\Windows Kits\\10\\\\include\\10.0.22621.0\\\\cppwinrt\" \"-IC:\\Program Files (x86)\\Windows Kits\\NETFXSDK\\4.8\\include\\um\" /EHsc /Tpduckdb/extension/excel/numformat/nf_localedata.cpp /Fobuild\\temp.win-amd64-cpython-312\\Release\\duckdb\\extension\\excel\\numformat\\nf_localedata.obj /wd4244 /wd4267 /wd4200 /wd26451 /wd26495 /D_CRT_SECURE_NO_WARNINGS /utf-8 -DDUCKDB_PYTHON_LIB_NAME=duckdb -DDUCKDB_BUILD_LIBRARY -DWIN32 -DBUILD_PARQUET_EXTENSION -DBUILD_ICU_EXTENSION -DBUILD_FTS_EXTENSION -DBUILD_TPCH_EXTENSION -DBUILD_JSON_EXTENSION -DBUILD_EXCEL_EXTENSION\n",
      "  nf_localedata.cpp\n",
      "  \"C:\\Program Files (x86)\\Microsoft Visual Studio\\2022\\BuildTools\\VC\\Tools\\MSVC\\14.41.34120\\bin\\HostX86\\x64\\cl.exe\" /c /nologo /O2 /W3 /GL /DNDEBUG /MD -Iduckdb/src/include -Iduckdb/third_party/fmt/include -Iduckdb/third_party/fsst -Iduckdb/third_party/re2 -Iduckdb/third_party/miniz -Iduckdb/third_party/utf8proc/include -Iduckdb/third_party/utf8proc -Iduckdb/third_party/hyperloglog -Iduckdb/third_party/fastpforlib -Iduckdb/third_party/tdigest -Iduckdb/third_party/libpg_query/include -Iduckdb/third_party/libpg_query -Iduckdb/third_party/concurrentqueue -Iduckdb/third_party/pcg -Iduckdb/third_party/httplib -Iduckdb/third_party/fast_float -Iduckdb/third_party/mbedtls -Iduckdb/third_party/mbedtls/include -Iduckdb/third_party/mbedtls/library -Iduckdb/third_party/jaro_winkler -Iduckdb/third_party/jaro_winkler/details -Iduckdb/extension/parquet/include -Iduckdb/third_party/parquet -Iduckdb/third_party/snappy -Iduckdb/third_party/thrift -Iduckdb/third_party/zstd/include -Iduckdb/extension/icu/include -Iduckdb/extension/icu/third_party/icu/common -Iduckdb/extension/icu/third_party/icu/i18n -Iduckdb/extension/fts/include -Iduckdb/third_party/snowball/libstemmer -Iduckdb/third_party/snowball/runtime -Iduckdb/third_party/snowball/src_c -Iduckdb/extension/tpch/include -Iduckdb/extension/tpch/dbgen/include -Iduckdb/extension/tpcds/include -Iduckdb/extension/tpcds/dsdgen/include -Iduckdb/extension/tpcds/dsdgen/include/dsdgen-c -Iduckdb/extension/visualizer/include -Iduckdb/extension/json/include -Iduckdb/extension/json/yyjson/include -Iduckdb/extension/excel/include -Iduckdb/extension/excel/numformat/include -Iduckdb/extension/jemalloc/include -Iduckdb/extension/jemalloc/jemalloc/include -Iduckdb -IC:\\Users\\lenovo\\AppData\\Local\\Temp\\pip-install-dxp8uls1\\duckdb_bbe5f2a007fd4a1a968bb97851f2ff92\\src\\include -Ic:\\users\\lenovo\\appdata\\local\\temp\\pip-install-dxp8uls1\\duckdb_bbe5f2a007fd4a1a968bb97851f2ff92\\.eggs\\pybind11-2.13.6-py3.12.egg\\pybind11\\include -Ic:\\users\\lenovo\\appdata\\local\\temp\\pip-install-dxp8uls1\\duckdb_bbe5f2a007fd4a1a968bb97851f2ff92\\.eggs\\pybind11-2.13.6-py3.12.egg\\pybind11\\include -IC:\\Users\\lenovo\\anaconda3\\include -IC:\\Users\\lenovo\\anaconda3\\Include \"-IC:\\Program Files (x86)\\Microsoft Visual Studio\\2022\\BuildTools\\VC\\Tools\\MSVC\\14.41.34120\\include\" \"-IC:\\Program Files (x86)\\Microsoft Visual Studio\\2022\\BuildTools\\VC\\Auxiliary\\VS\\include\" \"-IC:\\Program Files (x86)\\Windows Kits\\10\\include\\10.0.22621.0\\ucrt\" \"-IC:\\Program Files (x86)\\Windows Kits\\10\\\\include\\10.0.22621.0\\\\um\" \"-IC:\\Program Files (x86)\\Windows Kits\\10\\\\include\\10.0.22621.0\\\\shared\" \"-IC:\\Program Files (x86)\\Windows Kits\\10\\\\include\\10.0.22621.0\\\\winrt\" \"-IC:\\Program Files (x86)\\Windows Kits\\10\\\\include\\10.0.22621.0\\\\cppwinrt\" \"-IC:\\Program Files (x86)\\Windows Kits\\NETFXSDK\\4.8\\include\\um\" /EHsc /Tpduckdb/extension/excel/numformat/nf_zformat.cpp /Fobuild\\temp.win-amd64-cpython-312\\Release\\duckdb\\extension\\excel\\numformat\\nf_zformat.obj /wd4244 /wd4267 /wd4200 /wd26451 /wd26495 /D_CRT_SECURE_NO_WARNINGS /utf-8 -DDUCKDB_PYTHON_LIB_NAME=duckdb -DDUCKDB_BUILD_LIBRARY -DWIN32 -DBUILD_PARQUET_EXTENSION -DBUILD_ICU_EXTENSION -DBUILD_FTS_EXTENSION -DBUILD_TPCH_EXTENSION -DBUILD_JSON_EXTENSION -DBUILD_EXCEL_EXTENSION\n",
      "  nf_zformat.cpp\n",
      "  duckdb/extension/excel/numformat/nf_zformat.cpp(2586): warning C4065: switch statement contains 'default' but no 'case' labels\n",
      "  duckdb/extension/excel/numformat/nf_zformat.cpp(2607): warning C4065: switch statement contains 'default' but no 'case' labels\n",
      "  duckdb/extension/excel/numformat/nf_zformat.cpp(2624): warning C4065: switch statement contains 'default' but no 'case' labels\n",
      "  \"C:\\Program Files (x86)\\Microsoft Visual Studio\\2022\\BuildTools\\VC\\Tools\\MSVC\\14.41.34120\\bin\\HostX86\\x64\\cl.exe\" /c /nologo /O2 /W3 /GL /DNDEBUG /MD -Iduckdb/src/include -Iduckdb/third_party/fmt/include -Iduckdb/third_party/fsst -Iduckdb/third_party/re2 -Iduckdb/third_party/miniz -Iduckdb/third_party/utf8proc/include -Iduckdb/third_party/utf8proc -Iduckdb/third_party/hyperloglog -Iduckdb/third_party/fastpforlib -Iduckdb/third_party/tdigest -Iduckdb/third_party/libpg_query/include -Iduckdb/third_party/libpg_query -Iduckdb/third_party/concurrentqueue -Iduckdb/third_party/pcg -Iduckdb/third_party/httplib -Iduckdb/third_party/fast_float -Iduckdb/third_party/mbedtls -Iduckdb/third_party/mbedtls/include -Iduckdb/third_party/mbedtls/library -Iduckdb/third_party/jaro_winkler -Iduckdb/third_party/jaro_winkler/details -Iduckdb/extension/parquet/include -Iduckdb/third_party/parquet -Iduckdb/third_party/snappy -Iduckdb/third_party/thrift -Iduckdb/third_party/zstd/include -Iduckdb/extension/icu/include -Iduckdb/extension/icu/third_party/icu/common -Iduckdb/extension/icu/third_party/icu/i18n -Iduckdb/extension/fts/include -Iduckdb/third_party/snowball/libstemmer -Iduckdb/third_party/snowball/runtime -Iduckdb/third_party/snowball/src_c -Iduckdb/extension/tpch/include -Iduckdb/extension/tpch/dbgen/include -Iduckdb/extension/tpcds/include -Iduckdb/extension/tpcds/dsdgen/include -Iduckdb/extension/tpcds/dsdgen/include/dsdgen-c -Iduckdb/extension/visualizer/include -Iduckdb/extension/json/include -Iduckdb/extension/json/yyjson/include -Iduckdb/extension/excel/include -Iduckdb/extension/excel/numformat/include -Iduckdb/extension/jemalloc/include -Iduckdb/extension/jemalloc/jemalloc/include -Iduckdb -IC:\\Users\\lenovo\\AppData\\Local\\Temp\\pip-install-dxp8uls1\\duckdb_bbe5f2a007fd4a1a968bb97851f2ff92\\src\\include -Ic:\\users\\lenovo\\appdata\\local\\temp\\pip-install-dxp8uls1\\duckdb_bbe5f2a007fd4a1a968bb97851f2ff92\\.eggs\\pybind11-2.13.6-py3.12.egg\\pybind11\\include -Ic:\\users\\lenovo\\appdata\\local\\temp\\pip-install-dxp8uls1\\duckdb_bbe5f2a007fd4a1a968bb97851f2ff92\\.eggs\\pybind11-2.13.6-py3.12.egg\\pybind11\\include -IC:\\Users\\lenovo\\anaconda3\\include -IC:\\Users\\lenovo\\anaconda3\\Include \"-IC:\\Program Files (x86)\\Microsoft Visual Studio\\2022\\BuildTools\\VC\\Tools\\MSVC\\14.41.34120\\include\" \"-IC:\\Program Files (x86)\\Microsoft Visual Studio\\2022\\BuildTools\\VC\\Auxiliary\\VS\\include\" \"-IC:\\Program Files (x86)\\Windows Kits\\10\\include\\10.0.22621.0\\ucrt\" \"-IC:\\Program Files (x86)\\Windows Kits\\10\\\\include\\10.0.22621.0\\\\um\" \"-IC:\\Program Files (x86)\\Windows Kits\\10\\\\include\\10.0.22621.0\\\\shared\" \"-IC:\\Program Files (x86)\\Windows Kits\\10\\\\include\\10.0.22621.0\\\\winrt\" \"-IC:\\Program Files (x86)\\Windows Kits\\10\\\\include\\10.0.22621.0\\\\cppwinrt\" \"-IC:\\Program Files (x86)\\Windows Kits\\NETFXSDK\\4.8\\include\\um\" /EHsc /Tpduckdb/extension/fts/fts-extension.cpp /Fobuild\\temp.win-amd64-cpython-312\\Release\\duckdb\\extension\\fts\\fts-extension.obj /wd4244 /wd4267 /wd4200 /wd26451 /wd26495 /D_CRT_SECURE_NO_WARNINGS /utf-8 -DDUCKDB_PYTHON_LIB_NAME=duckdb -DDUCKDB_BUILD_LIBRARY -DWIN32 -DBUILD_PARQUET_EXTENSION -DBUILD_ICU_EXTENSION -DBUILD_FTS_EXTENSION -DBUILD_TPCH_EXTENSION -DBUILD_JSON_EXTENSION -DBUILD_EXCEL_EXTENSION\n",
      "  fts-extension.cpp\n",
      "  \"C:\\Program Files (x86)\\Microsoft Visual Studio\\2022\\BuildTools\\VC\\Tools\\MSVC\\14.41.34120\\bin\\HostX86\\x64\\cl.exe\" /c /nologo /O2 /W3 /GL /DNDEBUG /MD -Iduckdb/src/include -Iduckdb/third_party/fmt/include -Iduckdb/third_party/fsst -Iduckdb/third_party/re2 -Iduckdb/third_party/miniz -Iduckdb/third_party/utf8proc/include -Iduckdb/third_party/utf8proc -Iduckdb/third_party/hyperloglog -Iduckdb/third_party/fastpforlib -Iduckdb/third_party/tdigest -Iduckdb/third_party/libpg_query/include -Iduckdb/third_party/libpg_query -Iduckdb/third_party/concurrentqueue -Iduckdb/third_party/pcg -Iduckdb/third_party/httplib -Iduckdb/third_party/fast_float -Iduckdb/third_party/mbedtls -Iduckdb/third_party/mbedtls/include -Iduckdb/third_party/mbedtls/library -Iduckdb/third_party/jaro_winkler -Iduckdb/third_party/jaro_winkler/details -Iduckdb/extension/parquet/include -Iduckdb/third_party/parquet -Iduckdb/third_party/snappy -Iduckdb/third_party/thrift -Iduckdb/third_party/zstd/include -Iduckdb/extension/icu/include -Iduckdb/extension/icu/third_party/icu/common -Iduckdb/extension/icu/third_party/icu/i18n -Iduckdb/extension/fts/include -Iduckdb/third_party/snowball/libstemmer -Iduckdb/third_party/snowball/runtime -Iduckdb/third_party/snowball/src_c -Iduckdb/extension/tpch/include -Iduckdb/extension/tpch/dbgen/include -Iduckdb/extension/tpcds/include -Iduckdb/extension/tpcds/dsdgen/include -Iduckdb/extension/tpcds/dsdgen/include/dsdgen-c -Iduckdb/extension/visualizer/include -Iduckdb/extension/json/include -Iduckdb/extension/json/yyjson/include -Iduckdb/extension/excel/include -Iduckdb/extension/excel/numformat/include -Iduckdb/extension/jemalloc/include -Iduckdb/extension/jemalloc/jemalloc/include -Iduckdb -IC:\\Users\\lenovo\\AppData\\Local\\Temp\\pip-install-dxp8uls1\\duckdb_bbe5f2a007fd4a1a968bb97851f2ff92\\src\\include -Ic:\\users\\lenovo\\appdata\\local\\temp\\pip-install-dxp8uls1\\duckdb_bbe5f2a007fd4a1a968bb97851f2ff92\\.eggs\\pybind11-2.13.6-py3.12.egg\\pybind11\\include -Ic:\\users\\lenovo\\appdata\\local\\temp\\pip-install-dxp8uls1\\duckdb_bbe5f2a007fd4a1a968bb97851f2ff92\\.eggs\\pybind11-2.13.6-py3.12.egg\\pybind11\\include -IC:\\Users\\lenovo\\anaconda3\\include -IC:\\Users\\lenovo\\anaconda3\\Include \"-IC:\\Program Files (x86)\\Microsoft Visual Studio\\2022\\BuildTools\\VC\\Tools\\MSVC\\14.41.34120\\include\" \"-IC:\\Program Files (x86)\\Microsoft Visual Studio\\2022\\BuildTools\\VC\\Auxiliary\\VS\\include\" \"-IC:\\Program Files (x86)\\Windows Kits\\10\\include\\10.0.22621.0\\ucrt\" \"-IC:\\Program Files (x86)\\Windows Kits\\10\\\\include\\10.0.22621.0\\\\um\" \"-IC:\\Program Files (x86)\\Windows Kits\\10\\\\include\\10.0.22621.0\\\\shared\" \"-IC:\\Program Files (x86)\\Windows Kits\\10\\\\include\\10.0.22621.0\\\\winrt\" \"-IC:\\Program Files (x86)\\Windows Kits\\10\\\\include\\10.0.22621.0\\\\cppwinrt\" \"-IC:\\Program Files (x86)\\Windows Kits\\NETFXSDK\\4.8\\include\\um\" /EHsc /Tpduckdb/extension/fts/fts_indexing.cpp /Fobuild\\temp.win-amd64-cpython-312\\Release\\duckdb\\extension\\fts\\fts_indexing.obj /wd4244 /wd4267 /wd4200 /wd26451 /wd26495 /D_CRT_SECURE_NO_WARNINGS /utf-8 -DDUCKDB_PYTHON_LIB_NAME=duckdb -DDUCKDB_BUILD_LIBRARY -DWIN32 -DBUILD_PARQUET_EXTENSION -DBUILD_ICU_EXTENSION -DBUILD_FTS_EXTENSION -DBUILD_TPCH_EXTENSION -DBUILD_JSON_EXTENSION -DBUILD_EXCEL_EXTENSION\n",
      "  fts_indexing.cpp\n",
      "  \"C:\\Program Files (x86)\\Microsoft Visual Studio\\2022\\BuildTools\\VC\\Tools\\MSVC\\14.41.34120\\bin\\HostX86\\x64\\cl.exe\" /c /nologo /O2 /W3 /GL /DNDEBUG /MD -Iduckdb/src/include -Iduckdb/third_party/fmt/include -Iduckdb/third_party/fsst -Iduckdb/third_party/re2 -Iduckdb/third_party/miniz -Iduckdb/third_party/utf8proc/include -Iduckdb/third_party/utf8proc -Iduckdb/third_party/hyperloglog -Iduckdb/third_party/fastpforlib -Iduckdb/third_party/tdigest -Iduckdb/third_party/libpg_query/include -Iduckdb/third_party/libpg_query -Iduckdb/third_party/concurrentqueue -Iduckdb/third_party/pcg -Iduckdb/third_party/httplib -Iduckdb/third_party/fast_float -Iduckdb/third_party/mbedtls -Iduckdb/third_party/mbedtls/include -Iduckdb/third_party/mbedtls/library -Iduckdb/third_party/jaro_winkler -Iduckdb/third_party/jaro_winkler/details -Iduckdb/extension/parquet/include -Iduckdb/third_party/parquet -Iduckdb/third_party/snappy -Iduckdb/third_party/thrift -Iduckdb/third_party/zstd/include -Iduckdb/extension/icu/include -Iduckdb/extension/icu/third_party/icu/common -Iduckdb/extension/icu/third_party/icu/i18n -Iduckdb/extension/fts/include -Iduckdb/third_party/snowball/libstemmer -Iduckdb/third_party/snowball/runtime -Iduckdb/third_party/snowball/src_c -Iduckdb/extension/tpch/include -Iduckdb/extension/tpch/dbgen/include -Iduckdb/extension/tpcds/include -Iduckdb/extension/tpcds/dsdgen/include -Iduckdb/extension/tpcds/dsdgen/include/dsdgen-c -Iduckdb/extension/visualizer/include -Iduckdb/extension/json/include -Iduckdb/extension/json/yyjson/include -Iduckdb/extension/excel/include -Iduckdb/extension/excel/numformat/include -Iduckdb/extension/jemalloc/include -Iduckdb/extension/jemalloc/jemalloc/include -Iduckdb -IC:\\Users\\lenovo\\AppData\\Local\\Temp\\pip-install-dxp8uls1\\duckdb_bbe5f2a007fd4a1a968bb97851f2ff92\\src\\include -Ic:\\users\\lenovo\\appdata\\local\\temp\\pip-install-dxp8uls1\\duckdb_bbe5f2a007fd4a1a968bb97851f2ff92\\.eggs\\pybind11-2.13.6-py3.12.egg\\pybind11\\include -Ic:\\users\\lenovo\\appdata\\local\\temp\\pip-install-dxp8uls1\\duckdb_bbe5f2a007fd4a1a968bb97851f2ff92\\.eggs\\pybind11-2.13.6-py3.12.egg\\pybind11\\include -IC:\\Users\\lenovo\\anaconda3\\include -IC:\\Users\\lenovo\\anaconda3\\Include \"-IC:\\Program Files (x86)\\Microsoft Visual Studio\\2022\\BuildTools\\VC\\Tools\\MSVC\\14.41.34120\\include\" \"-IC:\\Program Files (x86)\\Microsoft Visual Studio\\2022\\BuildTools\\VC\\Auxiliary\\VS\\include\" \"-IC:\\Program Files (x86)\\Windows Kits\\10\\include\\10.0.22621.0\\ucrt\" \"-IC:\\Program Files (x86)\\Windows Kits\\10\\\\include\\10.0.22621.0\\\\um\" \"-IC:\\Program Files (x86)\\Windows Kits\\10\\\\include\\10.0.22621.0\\\\shared\" \"-IC:\\Program Files (x86)\\Windows Kits\\10\\\\include\\10.0.22621.0\\\\winrt\" \"-IC:\\Program Files (x86)\\Windows Kits\\10\\\\include\\10.0.22621.0\\\\cppwinrt\" \"-IC:\\Program Files (x86)\\Windows Kits\\NETFXSDK\\4.8\\include\\um\" /EHsc /Tpduckdb/extension/icu/./icu-dateadd.cpp /Fobuild\\temp.win-amd64-cpython-312\\Release\\duckdb\\extension\\icu\\icu-dateadd.obj /wd4244 /wd4267 /wd4200 /wd26451 /wd26495 /D_CRT_SECURE_NO_WARNINGS /utf-8 -DDUCKDB_PYTHON_LIB_NAME=duckdb -DDUCKDB_BUILD_LIBRARY -DWIN32 -DBUILD_PARQUET_EXTENSION -DBUILD_ICU_EXTENSION -DBUILD_FTS_EXTENSION -DBUILD_TPCH_EXTENSION -DBUILD_JSON_EXTENSION -DBUILD_EXCEL_EXTENSION\n",
      "  icu-dateadd.cpp\n",
      "  \"C:\\Program Files (x86)\\Microsoft Visual Studio\\2022\\BuildTools\\VC\\Tools\\MSVC\\14.41.34120\\bin\\HostX86\\x64\\cl.exe\" /c /nologo /O2 /W3 /GL /DNDEBUG /MD -Iduckdb/src/include -Iduckdb/third_party/fmt/include -Iduckdb/third_party/fsst -Iduckdb/third_party/re2 -Iduckdb/third_party/miniz -Iduckdb/third_party/utf8proc/include -Iduckdb/third_party/utf8proc -Iduckdb/third_party/hyperloglog -Iduckdb/third_party/fastpforlib -Iduckdb/third_party/tdigest -Iduckdb/third_party/libpg_query/include -Iduckdb/third_party/libpg_query -Iduckdb/third_party/concurrentqueue -Iduckdb/third_party/pcg -Iduckdb/third_party/httplib -Iduckdb/third_party/fast_float -Iduckdb/third_party/mbedtls -Iduckdb/third_party/mbedtls/include -Iduckdb/third_party/mbedtls/library -Iduckdb/third_party/jaro_winkler -Iduckdb/third_party/jaro_winkler/details -Iduckdb/extension/parquet/include -Iduckdb/third_party/parquet -Iduckdb/third_party/snappy -Iduckdb/third_party/thrift -Iduckdb/third_party/zstd/include -Iduckdb/extension/icu/include -Iduckdb/extension/icu/third_party/icu/common -Iduckdb/extension/icu/third_party/icu/i18n -Iduckdb/extension/fts/include -Iduckdb/third_party/snowball/libstemmer -Iduckdb/third_party/snowball/runtime -Iduckdb/third_party/snowball/src_c -Iduckdb/extension/tpch/include -Iduckdb/extension/tpch/dbgen/include -Iduckdb/extension/tpcds/include -Iduckdb/extension/tpcds/dsdgen/include -Iduckdb/extension/tpcds/dsdgen/include/dsdgen-c -Iduckdb/extension/visualizer/include -Iduckdb/extension/json/include -Iduckdb/extension/json/yyjson/include -Iduckdb/extension/excel/include -Iduckdb/extension/excel/numformat/include -Iduckdb/extension/jemalloc/include -Iduckdb/extension/jemalloc/jemalloc/include -Iduckdb -IC:\\Users\\lenovo\\AppData\\Local\\Temp\\pip-install-dxp8uls1\\duckdb_bbe5f2a007fd4a1a968bb97851f2ff92\\src\\include -Ic:\\users\\lenovo\\appdata\\local\\temp\\pip-install-dxp8uls1\\duckdb_bbe5f2a007fd4a1a968bb97851f2ff92\\.eggs\\pybind11-2.13.6-py3.12.egg\\pybind11\\include -Ic:\\users\\lenovo\\appdata\\local\\temp\\pip-install-dxp8uls1\\duckdb_bbe5f2a007fd4a1a968bb97851f2ff92\\.eggs\\pybind11-2.13.6-py3.12.egg\\pybind11\\include -IC:\\Users\\lenovo\\anaconda3\\include -IC:\\Users\\lenovo\\anaconda3\\Include \"-IC:\\Program Files (x86)\\Microsoft Visual Studio\\2022\\BuildTools\\VC\\Tools\\MSVC\\14.41.34120\\include\" \"-IC:\\Program Files (x86)\\Microsoft Visual Studio\\2022\\BuildTools\\VC\\Auxiliary\\VS\\include\" \"-IC:\\Program Files (x86)\\Windows Kits\\10\\include\\10.0.22621.0\\ucrt\" \"-IC:\\Program Files (x86)\\Windows Kits\\10\\\\include\\10.0.22621.0\\\\um\" \"-IC:\\Program Files (x86)\\Windows Kits\\10\\\\include\\10.0.22621.0\\\\shared\" \"-IC:\\Program Files (x86)\\Windows Kits\\10\\\\include\\10.0.22621.0\\\\winrt\" \"-IC:\\Program Files (x86)\\Windows Kits\\10\\\\include\\10.0.22621.0\\\\cppwinrt\" \"-IC:\\Program Files (x86)\\Windows Kits\\NETFXSDK\\4.8\\include\\um\" /EHsc /Tpduckdb/extension/icu/./icu-datefunc.cpp /Fobuild\\temp.win-amd64-cpython-312\\Release\\duckdb\\extension\\icu\\icu-datefunc.obj /wd4244 /wd4267 /wd4200 /wd26451 /wd26495 /D_CRT_SECURE_NO_WARNINGS /utf-8 -DDUCKDB_PYTHON_LIB_NAME=duckdb -DDUCKDB_BUILD_LIBRARY -DWIN32 -DBUILD_PARQUET_EXTENSION -DBUILD_ICU_EXTENSION -DBUILD_FTS_EXTENSION -DBUILD_TPCH_EXTENSION -DBUILD_JSON_EXTENSION -DBUILD_EXCEL_EXTENSION\n",
      "  icu-datefunc.cpp\n",
      "  \"C:\\Program Files (x86)\\Microsoft Visual Studio\\2022\\BuildTools\\VC\\Tools\\MSVC\\14.41.34120\\bin\\HostX86\\x64\\cl.exe\" /c /nologo /O2 /W3 /GL /DNDEBUG /MD -Iduckdb/src/include -Iduckdb/third_party/fmt/include -Iduckdb/third_party/fsst -Iduckdb/third_party/re2 -Iduckdb/third_party/miniz -Iduckdb/third_party/utf8proc/include -Iduckdb/third_party/utf8proc -Iduckdb/third_party/hyperloglog -Iduckdb/third_party/fastpforlib -Iduckdb/third_party/tdigest -Iduckdb/third_party/libpg_query/include -Iduckdb/third_party/libpg_query -Iduckdb/third_party/concurrentqueue -Iduckdb/third_party/pcg -Iduckdb/third_party/httplib -Iduckdb/third_party/fast_float -Iduckdb/third_party/mbedtls -Iduckdb/third_party/mbedtls/include -Iduckdb/third_party/mbedtls/library -Iduckdb/third_party/jaro_winkler -Iduckdb/third_party/jaro_winkler/details -Iduckdb/extension/parquet/include -Iduckdb/third_party/parquet -Iduckdb/third_party/snappy -Iduckdb/third_party/thrift -Iduckdb/third_party/zstd/include -Iduckdb/extension/icu/include -Iduckdb/extension/icu/third_party/icu/common -Iduckdb/extension/icu/third_party/icu/i18n -Iduckdb/extension/fts/include -Iduckdb/third_party/snowball/libstemmer -Iduckdb/third_party/snowball/runtime -Iduckdb/third_party/snowball/src_c -Iduckdb/extension/tpch/include -Iduckdb/extension/tpch/dbgen/include -Iduckdb/extension/tpcds/include -Iduckdb/extension/tpcds/dsdgen/include -Iduckdb/extension/tpcds/dsdgen/include/dsdgen-c -Iduckdb/extension/visualizer/include -Iduckdb/extension/json/include -Iduckdb/extension/json/yyjson/include -Iduckdb/extension/excel/include -Iduckdb/extension/excel/numformat/include -Iduckdb/extension/jemalloc/include -Iduckdb/extension/jemalloc/jemalloc/include -Iduckdb -IC:\\Users\\lenovo\\AppData\\Local\\Temp\\pip-install-dxp8uls1\\duckdb_bbe5f2a007fd4a1a968bb97851f2ff92\\src\\include -Ic:\\users\\lenovo\\appdata\\local\\temp\\pip-install-dxp8uls1\\duckdb_bbe5f2a007fd4a1a968bb97851f2ff92\\.eggs\\pybind11-2.13.6-py3.12.egg\\pybind11\\include -Ic:\\users\\lenovo\\appdata\\local\\temp\\pip-install-dxp8uls1\\duckdb_bbe5f2a007fd4a1a968bb97851f2ff92\\.eggs\\pybind11-2.13.6-py3.12.egg\\pybind11\\include -IC:\\Users\\lenovo\\anaconda3\\include -IC:\\Users\\lenovo\\anaconda3\\Include \"-IC:\\Program Files (x86)\\Microsoft Visual Studio\\2022\\BuildTools\\VC\\Tools\\MSVC\\14.41.34120\\include\" \"-IC:\\Program Files (x86)\\Microsoft Visual Studio\\2022\\BuildTools\\VC\\Auxiliary\\VS\\include\" \"-IC:\\Program Files (x86)\\Windows Kits\\10\\include\\10.0.22621.0\\ucrt\" \"-IC:\\Program Files (x86)\\Windows Kits\\10\\\\include\\10.0.22621.0\\\\um\" \"-IC:\\Program Files (x86)\\Windows Kits\\10\\\\include\\10.0.22621.0\\\\shared\" \"-IC:\\Program Files (x86)\\Windows Kits\\10\\\\include\\10.0.22621.0\\\\winrt\" \"-IC:\\Program Files (x86)\\Windows Kits\\10\\\\include\\10.0.22621.0\\\\cppwinrt\" \"-IC:\\Program Files (x86)\\Windows Kits\\NETFXSDK\\4.8\\include\\um\" /EHsc /Tpduckdb/extension/icu/./icu-datepart.cpp /Fobuild\\temp.win-amd64-cpython-312\\Release\\duckdb\\extension\\icu\\icu-datepart.obj /wd4244 /wd4267 /wd4200 /wd26451 /wd26495 /D_CRT_SECURE_NO_WARNINGS /utf-8 -DDUCKDB_PYTHON_LIB_NAME=duckdb -DDUCKDB_BUILD_LIBRARY -DWIN32 -DBUILD_PARQUET_EXTENSION -DBUILD_ICU_EXTENSION -DBUILD_FTS_EXTENSION -DBUILD_TPCH_EXTENSION -DBUILD_JSON_EXTENSION -DBUILD_EXCEL_EXTENSION\n",
      "  icu-datepart.cpp\n",
      "  \"C:\\Program Files (x86)\\Microsoft Visual Studio\\2022\\BuildTools\\VC\\Tools\\MSVC\\14.41.34120\\bin\\HostX86\\x64\\cl.exe\" /c /nologo /O2 /W3 /GL /DNDEBUG /MD -Iduckdb/src/include -Iduckdb/third_party/fmt/include -Iduckdb/third_party/fsst -Iduckdb/third_party/re2 -Iduckdb/third_party/miniz -Iduckdb/third_party/utf8proc/include -Iduckdb/third_party/utf8proc -Iduckdb/third_party/hyperloglog -Iduckdb/third_party/fastpforlib -Iduckdb/third_party/tdigest -Iduckdb/third_party/libpg_query/include -Iduckdb/third_party/libpg_query -Iduckdb/third_party/concurrentqueue -Iduckdb/third_party/pcg -Iduckdb/third_party/httplib -Iduckdb/third_party/fast_float -Iduckdb/third_party/mbedtls -Iduckdb/third_party/mbedtls/include -Iduckdb/third_party/mbedtls/library -Iduckdb/third_party/jaro_winkler -Iduckdb/third_party/jaro_winkler/details -Iduckdb/extension/parquet/include -Iduckdb/third_party/parquet -Iduckdb/third_party/snappy -Iduckdb/third_party/thrift -Iduckdb/third_party/zstd/include -Iduckdb/extension/icu/include -Iduckdb/extension/icu/third_party/icu/common -Iduckdb/extension/icu/third_party/icu/i18n -Iduckdb/extension/fts/include -Iduckdb/third_party/snowball/libstemmer -Iduckdb/third_party/snowball/runtime -Iduckdb/third_party/snowball/src_c -Iduckdb/extension/tpch/include -Iduckdb/extension/tpch/dbgen/include -Iduckdb/extension/tpcds/include -Iduckdb/extension/tpcds/dsdgen/include -Iduckdb/extension/tpcds/dsdgen/include/dsdgen-c -Iduckdb/extension/visualizer/include -Iduckdb/extension/json/include -Iduckdb/extension/json/yyjson/include -Iduckdb/extension/excel/include -Iduckdb/extension/excel/numformat/include -Iduckdb/extension/jemalloc/include -Iduckdb/extension/jemalloc/jemalloc/include -Iduckdb -IC:\\Users\\lenovo\\AppData\\Local\\Temp\\pip-install-dxp8uls1\\duckdb_bbe5f2a007fd4a1a968bb97851f2ff92\\src\\include -Ic:\\users\\lenovo\\appdata\\local\\temp\\pip-install-dxp8uls1\\duckdb_bbe5f2a007fd4a1a968bb97851f2ff92\\.eggs\\pybind11-2.13.6-py3.12.egg\\pybind11\\include -Ic:\\users\\lenovo\\appdata\\local\\temp\\pip-install-dxp8uls1\\duckdb_bbe5f2a007fd4a1a968bb97851f2ff92\\.eggs\\pybind11-2.13.6-py3.12.egg\\pybind11\\include -IC:\\Users\\lenovo\\anaconda3\\include -IC:\\Users\\lenovo\\anaconda3\\Include \"-IC:\\Program Files (x86)\\Microsoft Visual Studio\\2022\\BuildTools\\VC\\Tools\\MSVC\\14.41.34120\\include\" \"-IC:\\Program Files (x86)\\Microsoft Visual Studio\\2022\\BuildTools\\VC\\Auxiliary\\VS\\include\" \"-IC:\\Program Files (x86)\\Windows Kits\\10\\include\\10.0.22621.0\\ucrt\" \"-IC:\\Program Files (x86)\\Windows Kits\\10\\\\include\\10.0.22621.0\\\\um\" \"-IC:\\Program Files (x86)\\Windows Kits\\10\\\\include\\10.0.22621.0\\\\shared\" \"-IC:\\Program Files (x86)\\Windows Kits\\10\\\\include\\10.0.22621.0\\\\winrt\" \"-IC:\\Program Files (x86)\\Windows Kits\\10\\\\include\\10.0.22621.0\\\\cppwinrt\" \"-IC:\\Program Files (x86)\\Windows Kits\\NETFXSDK\\4.8\\include\\um\" /EHsc /Tpduckdb/extension/icu/./icu-datesub.cpp /Fobuild\\temp.win-amd64-cpython-312\\Release\\duckdb\\extension\\icu\\icu-datesub.obj /wd4244 /wd4267 /wd4200 /wd26451 /wd26495 /D_CRT_SECURE_NO_WARNINGS /utf-8 -DDUCKDB_PYTHON_LIB_NAME=duckdb -DDUCKDB_BUILD_LIBRARY -DWIN32 -DBUILD_PARQUET_EXTENSION -DBUILD_ICU_EXTENSION -DBUILD_FTS_EXTENSION -DBUILD_TPCH_EXTENSION -DBUILD_JSON_EXTENSION -DBUILD_EXCEL_EXTENSION\n",
      "  icu-datesub.cpp\n",
      "  \"C:\\Program Files (x86)\\Microsoft Visual Studio\\2022\\BuildTools\\VC\\Tools\\MSVC\\14.41.34120\\bin\\HostX86\\x64\\cl.exe\" /c /nologo /O2 /W3 /GL /DNDEBUG /MD -Iduckdb/src/include -Iduckdb/third_party/fmt/include -Iduckdb/third_party/fsst -Iduckdb/third_party/re2 -Iduckdb/third_party/miniz -Iduckdb/third_party/utf8proc/include -Iduckdb/third_party/utf8proc -Iduckdb/third_party/hyperloglog -Iduckdb/third_party/fastpforlib -Iduckdb/third_party/tdigest -Iduckdb/third_party/libpg_query/include -Iduckdb/third_party/libpg_query -Iduckdb/third_party/concurrentqueue -Iduckdb/third_party/pcg -Iduckdb/third_party/httplib -Iduckdb/third_party/fast_float -Iduckdb/third_party/mbedtls -Iduckdb/third_party/mbedtls/include -Iduckdb/third_party/mbedtls/library -Iduckdb/third_party/jaro_winkler -Iduckdb/third_party/jaro_winkler/details -Iduckdb/extension/parquet/include -Iduckdb/third_party/parquet -Iduckdb/third_party/snappy -Iduckdb/third_party/thrift -Iduckdb/third_party/zstd/include -Iduckdb/extension/icu/include -Iduckdb/extension/icu/third_party/icu/common -Iduckdb/extension/icu/third_party/icu/i18n -Iduckdb/extension/fts/include -Iduckdb/third_party/snowball/libstemmer -Iduckdb/third_party/snowball/runtime -Iduckdb/third_party/snowball/src_c -Iduckdb/extension/tpch/include -Iduckdb/extension/tpch/dbgen/include -Iduckdb/extension/tpcds/include -Iduckdb/extension/tpcds/dsdgen/include -Iduckdb/extension/tpcds/dsdgen/include/dsdgen-c -Iduckdb/extension/visualizer/include -Iduckdb/extension/json/include -Iduckdb/extension/json/yyjson/include -Iduckdb/extension/excel/include -Iduckdb/extension/excel/numformat/include -Iduckdb/extension/jemalloc/include -Iduckdb/extension/jemalloc/jemalloc/include -Iduckdb -IC:\\Users\\lenovo\\AppData\\Local\\Temp\\pip-install-dxp8uls1\\duckdb_bbe5f2a007fd4a1a968bb97851f2ff92\\src\\include -Ic:\\users\\lenovo\\appdata\\local\\temp\\pip-install-dxp8uls1\\duckdb_bbe5f2a007fd4a1a968bb97851f2ff92\\.eggs\\pybind11-2.13.6-py3.12.egg\\pybind11\\include -Ic:\\users\\lenovo\\appdata\\local\\temp\\pip-install-dxp8uls1\\duckdb_bbe5f2a007fd4a1a968bb97851f2ff92\\.eggs\\pybind11-2.13.6-py3.12.egg\\pybind11\\include -IC:\\Users\\lenovo\\anaconda3\\include -IC:\\Users\\lenovo\\anaconda3\\Include \"-IC:\\Program Files (x86)\\Microsoft Visual Studio\\2022\\BuildTools\\VC\\Tools\\MSVC\\14.41.34120\\include\" \"-IC:\\Program Files (x86)\\Microsoft Visual Studio\\2022\\BuildTools\\VC\\Auxiliary\\VS\\include\" \"-IC:\\Program Files (x86)\\Windows Kits\\10\\include\\10.0.22621.0\\ucrt\" \"-IC:\\Program Files (x86)\\Windows Kits\\10\\\\include\\10.0.22621.0\\\\um\" \"-IC:\\Program Files (x86)\\Windows Kits\\10\\\\include\\10.0.22621.0\\\\shared\" \"-IC:\\Program Files (x86)\\Windows Kits\\10\\\\include\\10.0.22621.0\\\\winrt\" \"-IC:\\Program Files (x86)\\Windows Kits\\10\\\\include\\10.0.22621.0\\\\cppwinrt\" \"-IC:\\Program Files (x86)\\Windows Kits\\NETFXSDK\\4.8\\include\\um\" /EHsc /Tpduckdb/extension/icu/./icu-datetrunc.cpp /Fobuild\\temp.win-amd64-cpython-312\\Release\\duckdb\\extension\\icu\\icu-datetrunc.obj /wd4244 /wd4267 /wd4200 /wd26451 /wd26495 /D_CRT_SECURE_NO_WARNINGS /utf-8 -DDUCKDB_PYTHON_LIB_NAME=duckdb -DDUCKDB_BUILD_LIBRARY -DWIN32 -DBUILD_PARQUET_EXTENSION -DBUILD_ICU_EXTENSION -DBUILD_FTS_EXTENSION -DBUILD_TPCH_EXTENSION -DBUILD_JSON_EXTENSION -DBUILD_EXCEL_EXTENSION\n",
      "  icu-datetrunc.cpp\n",
      "  \"C:\\Program Files (x86)\\Microsoft Visual Studio\\2022\\BuildTools\\VC\\Tools\\MSVC\\14.41.34120\\bin\\HostX86\\x64\\cl.exe\" /c /nologo /O2 /W3 /GL /DNDEBUG /MD -Iduckdb/src/include -Iduckdb/third_party/fmt/include -Iduckdb/third_party/fsst -Iduckdb/third_party/re2 -Iduckdb/third_party/miniz -Iduckdb/third_party/utf8proc/include -Iduckdb/third_party/utf8proc -Iduckdb/third_party/hyperloglog -Iduckdb/third_party/fastpforlib -Iduckdb/third_party/tdigest -Iduckdb/third_party/libpg_query/include -Iduckdb/third_party/libpg_query -Iduckdb/third_party/concurrentqueue -Iduckdb/third_party/pcg -Iduckdb/third_party/httplib -Iduckdb/third_party/fast_float -Iduckdb/third_party/mbedtls -Iduckdb/third_party/mbedtls/include -Iduckdb/third_party/mbedtls/library -Iduckdb/third_party/jaro_winkler -Iduckdb/third_party/jaro_winkler/details -Iduckdb/extension/parquet/include -Iduckdb/third_party/parquet -Iduckdb/third_party/snappy -Iduckdb/third_party/thrift -Iduckdb/third_party/zstd/include -Iduckdb/extension/icu/include -Iduckdb/extension/icu/third_party/icu/common -Iduckdb/extension/icu/third_party/icu/i18n -Iduckdb/extension/fts/include -Iduckdb/third_party/snowball/libstemmer -Iduckdb/third_party/snowball/runtime -Iduckdb/third_party/snowball/src_c -Iduckdb/extension/tpch/include -Iduckdb/extension/tpch/dbgen/include -Iduckdb/extension/tpcds/include -Iduckdb/extension/tpcds/dsdgen/include -Iduckdb/extension/tpcds/dsdgen/include/dsdgen-c -Iduckdb/extension/visualizer/include -Iduckdb/extension/json/include -Iduckdb/extension/json/yyjson/include -Iduckdb/extension/excel/include -Iduckdb/extension/excel/numformat/include -Iduckdb/extension/jemalloc/include -Iduckdb/extension/jemalloc/jemalloc/include -Iduckdb -IC:\\Users\\lenovo\\AppData\\Local\\Temp\\pip-install-dxp8uls1\\duckdb_bbe5f2a007fd4a1a968bb97851f2ff92\\src\\include -Ic:\\users\\lenovo\\appdata\\local\\temp\\pip-install-dxp8uls1\\duckdb_bbe5f2a007fd4a1a968bb97851f2ff92\\.eggs\\pybind11-2.13.6-py3.12.egg\\pybind11\\include -Ic:\\users\\lenovo\\appdata\\local\\temp\\pip-install-dxp8uls1\\duckdb_bbe5f2a007fd4a1a968bb97851f2ff92\\.eggs\\pybind11-2.13.6-py3.12.egg\\pybind11\\include -IC:\\Users\\lenovo\\anaconda3\\include -IC:\\Users\\lenovo\\anaconda3\\Include \"-IC:\\Program Files (x86)\\Microsoft Visual Studio\\2022\\BuildTools\\VC\\Tools\\MSVC\\14.41.34120\\include\" \"-IC:\\Program Files (x86)\\Microsoft Visual Studio\\2022\\BuildTools\\VC\\Auxiliary\\VS\\include\" \"-IC:\\Program Files (x86)\\Windows Kits\\10\\include\\10.0.22621.0\\ucrt\" \"-IC:\\Program Files (x86)\\Windows Kits\\10\\\\include\\10.0.22621.0\\\\um\" \"-IC:\\Program Files (x86)\\Windows Kits\\10\\\\include\\10.0.22621.0\\\\shared\" \"-IC:\\Program Files (x86)\\Windows Kits\\10\\\\include\\10.0.22621.0\\\\winrt\" \"-IC:\\Program Files (x86)\\Windows Kits\\10\\\\include\\10.0.22621.0\\\\cppwinrt\" \"-IC:\\Program Files (x86)\\Windows Kits\\NETFXSDK\\4.8\\include\\um\" /EHsc /Tpduckdb/extension/icu/./icu-extension.cpp /Fobuild\\temp.win-amd64-cpython-312\\Release\\duckdb\\extension\\icu\\icu-extension.obj /wd4244 /wd4267 /wd4200 /wd26451 /wd26495 /D_CRT_SECURE_NO_WARNINGS /utf-8 -DDUCKDB_PYTHON_LIB_NAME=duckdb -DDUCKDB_BUILD_LIBRARY -DWIN32 -DBUILD_PARQUET_EXTENSION -DBUILD_ICU_EXTENSION -DBUILD_FTS_EXTENSION -DBUILD_TPCH_EXTENSION -DBUILD_JSON_EXTENSION -DBUILD_EXCEL_EXTENSION\n",
      "  icu-extension.cpp\n",
      "  \"C:\\Program Files (x86)\\Microsoft Visual Studio\\2022\\BuildTools\\VC\\Tools\\MSVC\\14.41.34120\\bin\\HostX86\\x64\\cl.exe\" /c /nologo /O2 /W3 /GL /DNDEBUG /MD -Iduckdb/src/include -Iduckdb/third_party/fmt/include -Iduckdb/third_party/fsst -Iduckdb/third_party/re2 -Iduckdb/third_party/miniz -Iduckdb/third_party/utf8proc/include -Iduckdb/third_party/utf8proc -Iduckdb/third_party/hyperloglog -Iduckdb/third_party/fastpforlib -Iduckdb/third_party/tdigest -Iduckdb/third_party/libpg_query/include -Iduckdb/third_party/libpg_query -Iduckdb/third_party/concurrentqueue -Iduckdb/third_party/pcg -Iduckdb/third_party/httplib -Iduckdb/third_party/fast_float -Iduckdb/third_party/mbedtls -Iduckdb/third_party/mbedtls/include -Iduckdb/third_party/mbedtls/library -Iduckdb/third_party/jaro_winkler -Iduckdb/third_party/jaro_winkler/details -Iduckdb/extension/parquet/include -Iduckdb/third_party/parquet -Iduckdb/third_party/snappy -Iduckdb/third_party/thrift -Iduckdb/third_party/zstd/include -Iduckdb/extension/icu/include -Iduckdb/extension/icu/third_party/icu/common -Iduckdb/extension/icu/third_party/icu/i18n -Iduckdb/extension/fts/include -Iduckdb/third_party/snowball/libstemmer -Iduckdb/third_party/snowball/runtime -Iduckdb/third_party/snowball/src_c -Iduckdb/extension/tpch/include -Iduckdb/extension/tpch/dbgen/include -Iduckdb/extension/tpcds/include -Iduckdb/extension/tpcds/dsdgen/include -Iduckdb/extension/tpcds/dsdgen/include/dsdgen-c -Iduckdb/extension/visualizer/include -Iduckdb/extension/json/include -Iduckdb/extension/json/yyjson/include -Iduckdb/extension/excel/include -Iduckdb/extension/excel/numformat/include -Iduckdb/extension/jemalloc/include -Iduckdb/extension/jemalloc/jemalloc/include -Iduckdb -IC:\\Users\\lenovo\\AppData\\Local\\Temp\\pip-install-dxp8uls1\\duckdb_bbe5f2a007fd4a1a968bb97851f2ff92\\src\\include -Ic:\\users\\lenovo\\appdata\\local\\temp\\pip-install-dxp8uls1\\duckdb_bbe5f2a007fd4a1a968bb97851f2ff92\\.eggs\\pybind11-2.13.6-py3.12.egg\\pybind11\\include -Ic:\\users\\lenovo\\appdata\\local\\temp\\pip-install-dxp8uls1\\duckdb_bbe5f2a007fd4a1a968bb97851f2ff92\\.eggs\\pybind11-2.13.6-py3.12.egg\\pybind11\\include -IC:\\Users\\lenovo\\anaconda3\\include -IC:\\Users\\lenovo\\anaconda3\\Include \"-IC:\\Program Files (x86)\\Microsoft Visual Studio\\2022\\BuildTools\\VC\\Tools\\MSVC\\14.41.34120\\include\" \"-IC:\\Program Files (x86)\\Microsoft Visual Studio\\2022\\BuildTools\\VC\\Auxiliary\\VS\\include\" \"-IC:\\Program Files (x86)\\Windows Kits\\10\\include\\10.0.22621.0\\ucrt\" \"-IC:\\Program Files (x86)\\Windows Kits\\10\\\\include\\10.0.22621.0\\\\um\" \"-IC:\\Program Files (x86)\\Windows Kits\\10\\\\include\\10.0.22621.0\\\\shared\" \"-IC:\\Program Files (x86)\\Windows Kits\\10\\\\include\\10.0.22621.0\\\\winrt\" \"-IC:\\Program Files (x86)\\Windows Kits\\10\\\\include\\10.0.22621.0\\\\cppwinrt\" \"-IC:\\Program Files (x86)\\Windows Kits\\NETFXSDK\\4.8\\include\\um\" /EHsc /Tpduckdb/extension/icu/./icu-makedate.cpp /Fobuild\\temp.win-amd64-cpython-312\\Release\\duckdb\\extension\\icu\\icu-makedate.obj /wd4244 /wd4267 /wd4200 /wd26451 /wd26495 /D_CRT_SECURE_NO_WARNINGS /utf-8 -DDUCKDB_PYTHON_LIB_NAME=duckdb -DDUCKDB_BUILD_LIBRARY -DWIN32 -DBUILD_PARQUET_EXTENSION -DBUILD_ICU_EXTENSION -DBUILD_FTS_EXTENSION -DBUILD_TPCH_EXTENSION -DBUILD_JSON_EXTENSION -DBUILD_EXCEL_EXTENSION\n",
      "  icu-makedate.cpp\n",
      "  \"C:\\Program Files (x86)\\Microsoft Visual Studio\\2022\\BuildTools\\VC\\Tools\\MSVC\\14.41.34120\\bin\\HostX86\\x64\\cl.exe\" /c /nologo /O2 /W3 /GL /DNDEBUG /MD -Iduckdb/src/include -Iduckdb/third_party/fmt/include -Iduckdb/third_party/fsst -Iduckdb/third_party/re2 -Iduckdb/third_party/miniz -Iduckdb/third_party/utf8proc/include -Iduckdb/third_party/utf8proc -Iduckdb/third_party/hyperloglog -Iduckdb/third_party/fastpforlib -Iduckdb/third_party/tdigest -Iduckdb/third_party/libpg_query/include -Iduckdb/third_party/libpg_query -Iduckdb/third_party/concurrentqueue -Iduckdb/third_party/pcg -Iduckdb/third_party/httplib -Iduckdb/third_party/fast_float -Iduckdb/third_party/mbedtls -Iduckdb/third_party/mbedtls/include -Iduckdb/third_party/mbedtls/library -Iduckdb/third_party/jaro_winkler -Iduckdb/third_party/jaro_winkler/details -Iduckdb/extension/parquet/include -Iduckdb/third_party/parquet -Iduckdb/third_party/snappy -Iduckdb/third_party/thrift -Iduckdb/third_party/zstd/include -Iduckdb/extension/icu/include -Iduckdb/extension/icu/third_party/icu/common -Iduckdb/extension/icu/third_party/icu/i18n -Iduckdb/extension/fts/include -Iduckdb/third_party/snowball/libstemmer -Iduckdb/third_party/snowball/runtime -Iduckdb/third_party/snowball/src_c -Iduckdb/extension/tpch/include -Iduckdb/extension/tpch/dbgen/include -Iduckdb/extension/tpcds/include -Iduckdb/extension/tpcds/dsdgen/include -Iduckdb/extension/tpcds/dsdgen/include/dsdgen-c -Iduckdb/extension/visualizer/include -Iduckdb/extension/json/include -Iduckdb/extension/json/yyjson/include -Iduckdb/extension/excel/include -Iduckdb/extension/excel/numformat/include -Iduckdb/extension/jemalloc/include -Iduckdb/extension/jemalloc/jemalloc/include -Iduckdb -IC:\\Users\\lenovo\\AppData\\Local\\Temp\\pip-install-dxp8uls1\\duckdb_bbe5f2a007fd4a1a968bb97851f2ff92\\src\\include -Ic:\\users\\lenovo\\appdata\\local\\temp\\pip-install-dxp8uls1\\duckdb_bbe5f2a007fd4a1a968bb97851f2ff92\\.eggs\\pybind11-2.13.6-py3.12.egg\\pybind11\\include -Ic:\\users\\lenovo\\appdata\\local\\temp\\pip-install-dxp8uls1\\duckdb_bbe5f2a007fd4a1a968bb97851f2ff92\\.eggs\\pybind11-2.13.6-py3.12.egg\\pybind11\\include -IC:\\Users\\lenovo\\anaconda3\\include -IC:\\Users\\lenovo\\anaconda3\\Include \"-IC:\\Program Files (x86)\\Microsoft Visual Studio\\2022\\BuildTools\\VC\\Tools\\MSVC\\14.41.34120\\include\" \"-IC:\\Program Files (x86)\\Microsoft Visual Studio\\2022\\BuildTools\\VC\\Auxiliary\\VS\\include\" \"-IC:\\Program Files (x86)\\Windows Kits\\10\\include\\10.0.22621.0\\ucrt\" \"-IC:\\Program Files (x86)\\Windows Kits\\10\\\\include\\10.0.22621.0\\\\um\" \"-IC:\\Program Files (x86)\\Windows Kits\\10\\\\include\\10.0.22621.0\\\\shared\" \"-IC:\\Program Files (x86)\\Windows Kits\\10\\\\include\\10.0.22621.0\\\\winrt\" \"-IC:\\Program Files (x86)\\Windows Kits\\10\\\\include\\10.0.22621.0\\\\cppwinrt\" \"-IC:\\Program Files (x86)\\Windows Kits\\NETFXSDK\\4.8\\include\\um\" /EHsc /Tpduckdb/extension/icu/./icu-strptime.cpp /Fobuild\\temp.win-amd64-cpython-312\\Release\\duckdb\\extension\\icu\\icu-strptime.obj /wd4244 /wd4267 /wd4200 /wd26451 /wd26495 /D_CRT_SECURE_NO_WARNINGS /utf-8 -DDUCKDB_PYTHON_LIB_NAME=duckdb -DDUCKDB_BUILD_LIBRARY -DWIN32 -DBUILD_PARQUET_EXTENSION -DBUILD_ICU_EXTENSION -DBUILD_FTS_EXTENSION -DBUILD_TPCH_EXTENSION -DBUILD_JSON_EXTENSION -DBUILD_EXCEL_EXTENSION\n",
      "  icu-strptime.cpp\n",
      "  duckdb/third_party/fmt/include\\fmt/format.h(304): warning C4996: 'stdext::checked_array_iterator<T*>': warning STL4043: stdext::checked_array_iterator, stdext::unchecked_array_iterator, and related factory functions are non-Standard extensions and will be removed in the future. std::span (since C++20) and gsl::span can be used instead. You can define _SILENCE_STDEXT_ARR_ITERS_DEPRECATION_WARNING or _SILENCE_ALL_MS_EXT_DEPRECATION_WARNINGS to suppress this warning.\n",
      "  C:\\Program Files (x86)\\Microsoft Visual Studio\\2022\\BuildTools\\VC\\Tools\\MSVC\\14.41.34120\\include\\iterator(1493): note: see declaration of 'stdext::checked_array_iterator'\n",
      "  \"C:\\Program Files (x86)\\Microsoft Visual Studio\\2022\\BuildTools\\VC\\Tools\\MSVC\\14.41.34120\\bin\\HostX86\\x64\\cl.exe\" /c /nologo /O2 /W3 /GL /DNDEBUG /MD -Iduckdb/src/include -Iduckdb/third_party/fmt/include -Iduckdb/third_party/fsst -Iduckdb/third_party/re2 -Iduckdb/third_party/miniz -Iduckdb/third_party/utf8proc/include -Iduckdb/third_party/utf8proc -Iduckdb/third_party/hyperloglog -Iduckdb/third_party/fastpforlib -Iduckdb/third_party/tdigest -Iduckdb/third_party/libpg_query/include -Iduckdb/third_party/libpg_query -Iduckdb/third_party/concurrentqueue -Iduckdb/third_party/pcg -Iduckdb/third_party/httplib -Iduckdb/third_party/fast_float -Iduckdb/third_party/mbedtls -Iduckdb/third_party/mbedtls/include -Iduckdb/third_party/mbedtls/library -Iduckdb/third_party/jaro_winkler -Iduckdb/third_party/jaro_winkler/details -Iduckdb/extension/parquet/include -Iduckdb/third_party/parquet -Iduckdb/third_party/snappy -Iduckdb/third_party/thrift -Iduckdb/third_party/zstd/include -Iduckdb/extension/icu/include -Iduckdb/extension/icu/third_party/icu/common -Iduckdb/extension/icu/third_party/icu/i18n -Iduckdb/extension/fts/include -Iduckdb/third_party/snowball/libstemmer -Iduckdb/third_party/snowball/runtime -Iduckdb/third_party/snowball/src_c -Iduckdb/extension/tpch/include -Iduckdb/extension/tpch/dbgen/include -Iduckdb/extension/tpcds/include -Iduckdb/extension/tpcds/dsdgen/include -Iduckdb/extension/tpcds/dsdgen/include/dsdgen-c -Iduckdb/extension/visualizer/include -Iduckdb/extension/json/include -Iduckdb/extension/json/yyjson/include -Iduckdb/extension/excel/include -Iduckdb/extension/excel/numformat/include -Iduckdb/extension/jemalloc/include -Iduckdb/extension/jemalloc/jemalloc/include -Iduckdb -IC:\\Users\\lenovo\\AppData\\Local\\Temp\\pip-install-dxp8uls1\\duckdb_bbe5f2a007fd4a1a968bb97851f2ff92\\src\\include -Ic:\\users\\lenovo\\appdata\\local\\temp\\pip-install-dxp8uls1\\duckdb_bbe5f2a007fd4a1a968bb97851f2ff92\\.eggs\\pybind11-2.13.6-py3.12.egg\\pybind11\\include -Ic:\\users\\lenovo\\appdata\\local\\temp\\pip-install-dxp8uls1\\duckdb_bbe5f2a007fd4a1a968bb97851f2ff92\\.eggs\\pybind11-2.13.6-py3.12.egg\\pybind11\\include -IC:\\Users\\lenovo\\anaconda3\\include -IC:\\Users\\lenovo\\anaconda3\\Include \"-IC:\\Program Files (x86)\\Microsoft Visual Studio\\2022\\BuildTools\\VC\\Tools\\MSVC\\14.41.34120\\include\" \"-IC:\\Program Files (x86)\\Microsoft Visual Studio\\2022\\BuildTools\\VC\\Auxiliary\\VS\\include\" \"-IC:\\Program Files (x86)\\Windows Kits\\10\\include\\10.0.22621.0\\ucrt\" \"-IC:\\Program Files (x86)\\Windows Kits\\10\\\\include\\10.0.22621.0\\\\um\" \"-IC:\\Program Files (x86)\\Windows Kits\\10\\\\include\\10.0.22621.0\\\\shared\" \"-IC:\\Program Files (x86)\\Windows Kits\\10\\\\include\\10.0.22621.0\\\\winrt\" \"-IC:\\Program Files (x86)\\Windows Kits\\10\\\\include\\10.0.22621.0\\\\cppwinrt\" \"-IC:\\Program Files (x86)\\Windows Kits\\NETFXSDK\\4.8\\include\\um\" /EHsc /Tpduckdb/extension/icu/./icu-timebucket.cpp /Fobuild\\temp.win-amd64-cpython-312\\Release\\duckdb\\extension\\icu\\icu-timebucket.obj /wd4244 /wd4267 /wd4200 /wd26451 /wd26495 /D_CRT_SECURE_NO_WARNINGS /utf-8 -DDUCKDB_PYTHON_LIB_NAME=duckdb -DDUCKDB_BUILD_LIBRARY -DWIN32 -DBUILD_PARQUET_EXTENSION -DBUILD_ICU_EXTENSION -DBUILD_FTS_EXTENSION -DBUILD_TPCH_EXTENSION -DBUILD_JSON_EXTENSION -DBUILD_EXCEL_EXTENSION\n",
      "  icu-timebucket.cpp\n",
      "  \"C:\\Program Files (x86)\\Microsoft Visual Studio\\2022\\BuildTools\\VC\\Tools\\MSVC\\14.41.34120\\bin\\HostX86\\x64\\cl.exe\" /c /nologo /O2 /W3 /GL /DNDEBUG /MD -Iduckdb/src/include -Iduckdb/third_party/fmt/include -Iduckdb/third_party/fsst -Iduckdb/third_party/re2 -Iduckdb/third_party/miniz -Iduckdb/third_party/utf8proc/include -Iduckdb/third_party/utf8proc -Iduckdb/third_party/hyperloglog -Iduckdb/third_party/fastpforlib -Iduckdb/third_party/tdigest -Iduckdb/third_party/libpg_query/include -Iduckdb/third_party/libpg_query -Iduckdb/third_party/concurrentqueue -Iduckdb/third_party/pcg -Iduckdb/third_party/httplib -Iduckdb/third_party/fast_float -Iduckdb/third_party/mbedtls -Iduckdb/third_party/mbedtls/include -Iduckdb/third_party/mbedtls/library -Iduckdb/third_party/jaro_winkler -Iduckdb/third_party/jaro_winkler/details -Iduckdb/extension/parquet/include -Iduckdb/third_party/parquet -Iduckdb/third_party/snappy -Iduckdb/third_party/thrift -Iduckdb/third_party/zstd/include -Iduckdb/extension/icu/include -Iduckdb/extension/icu/third_party/icu/common -Iduckdb/extension/icu/third_party/icu/i18n -Iduckdb/extension/fts/include -Iduckdb/third_party/snowball/libstemmer -Iduckdb/third_party/snowball/runtime -Iduckdb/third_party/snowball/src_c -Iduckdb/extension/tpch/include -Iduckdb/extension/tpch/dbgen/include -Iduckdb/extension/tpcds/include -Iduckdb/extension/tpcds/dsdgen/include -Iduckdb/extension/tpcds/dsdgen/include/dsdgen-c -Iduckdb/extension/visualizer/include -Iduckdb/extension/json/include -Iduckdb/extension/json/yyjson/include -Iduckdb/extension/excel/include -Iduckdb/extension/excel/numformat/include -Iduckdb/extension/jemalloc/include -Iduckdb/extension/jemalloc/jemalloc/include -Iduckdb -IC:\\Users\\lenovo\\AppData\\Local\\Temp\\pip-install-dxp8uls1\\duckdb_bbe5f2a007fd4a1a968bb97851f2ff92\\src\\include -Ic:\\users\\lenovo\\appdata\\local\\temp\\pip-install-dxp8uls1\\duckdb_bbe5f2a007fd4a1a968bb97851f2ff92\\.eggs\\pybind11-2.13.6-py3.12.egg\\pybind11\\include -Ic:\\users\\lenovo\\appdata\\local\\temp\\pip-install-dxp8uls1\\duckdb_bbe5f2a007fd4a1a968bb97851f2ff92\\.eggs\\pybind11-2.13.6-py3.12.egg\\pybind11\\include -IC:\\Users\\lenovo\\anaconda3\\include -IC:\\Users\\lenovo\\anaconda3\\Include \"-IC:\\Program Files (x86)\\Microsoft Visual Studio\\2022\\BuildTools\\VC\\Tools\\MSVC\\14.41.34120\\include\" \"-IC:\\Program Files (x86)\\Microsoft Visual Studio\\2022\\BuildTools\\VC\\Auxiliary\\VS\\include\" \"-IC:\\Program Files (x86)\\Windows Kits\\10\\include\\10.0.22621.0\\ucrt\" \"-IC:\\Program Files (x86)\\Windows Kits\\10\\\\include\\10.0.22621.0\\\\um\" \"-IC:\\Program Files (x86)\\Windows Kits\\10\\\\include\\10.0.22621.0\\\\shared\" \"-IC:\\Program Files (x86)\\Windows Kits\\10\\\\include\\10.0.22621.0\\\\winrt\" \"-IC:\\Program Files (x86)\\Windows Kits\\10\\\\include\\10.0.22621.0\\\\cppwinrt\" \"-IC:\\Program Files (x86)\\Windows Kits\\NETFXSDK\\4.8\\include\\um\" /EHsc /Tpduckdb/extension/icu/./icu-timezone.cpp /Fobuild\\temp.win-amd64-cpython-312\\Release\\duckdb\\extension\\icu\\icu-timezone.obj /wd4244 /wd4267 /wd4200 /wd26451 /wd26495 /D_CRT_SECURE_NO_WARNINGS /utf-8 -DDUCKDB_PYTHON_LIB_NAME=duckdb -DDUCKDB_BUILD_LIBRARY -DWIN32 -DBUILD_PARQUET_EXTENSION -DBUILD_ICU_EXTENSION -DBUILD_FTS_EXTENSION -DBUILD_TPCH_EXTENSION -DBUILD_JSON_EXTENSION -DBUILD_EXCEL_EXTENSION\n",
      "  icu-timezone.cpp\n",
      "  \"C:\\Program Files (x86)\\Microsoft Visual Studio\\2022\\BuildTools\\VC\\Tools\\MSVC\\14.41.34120\\bin\\HostX86\\x64\\cl.exe\" /c /nologo /O2 /W3 /GL /DNDEBUG /MD -Iduckdb/src/include -Iduckdb/third_party/fmt/include -Iduckdb/third_party/fsst -Iduckdb/third_party/re2 -Iduckdb/third_party/miniz -Iduckdb/third_party/utf8proc/include -Iduckdb/third_party/utf8proc -Iduckdb/third_party/hyperloglog -Iduckdb/third_party/fastpforlib -Iduckdb/third_party/tdigest -Iduckdb/third_party/libpg_query/include -Iduckdb/third_party/libpg_query -Iduckdb/third_party/concurrentqueue -Iduckdb/third_party/pcg -Iduckdb/third_party/httplib -Iduckdb/third_party/fast_float -Iduckdb/third_party/mbedtls -Iduckdb/third_party/mbedtls/include -Iduckdb/third_party/mbedtls/library -Iduckdb/third_party/jaro_winkler -Iduckdb/third_party/jaro_winkler/details -Iduckdb/extension/parquet/include -Iduckdb/third_party/parquet -Iduckdb/third_party/snappy -Iduckdb/third_party/thrift -Iduckdb/third_party/zstd/include -Iduckdb/extension/icu/include -Iduckdb/extension/icu/third_party/icu/common -Iduckdb/extension/icu/third_party/icu/i18n -Iduckdb/extension/fts/include -Iduckdb/third_party/snowball/libstemmer -Iduckdb/third_party/snowball/runtime -Iduckdb/third_party/snowball/src_c -Iduckdb/extension/tpch/include -Iduckdb/extension/tpch/dbgen/include -Iduckdb/extension/tpcds/include -Iduckdb/extension/tpcds/dsdgen/include -Iduckdb/extension/tpcds/dsdgen/include/dsdgen-c -Iduckdb/extension/visualizer/include -Iduckdb/extension/json/include -Iduckdb/extension/json/yyjson/include -Iduckdb/extension/excel/include -Iduckdb/extension/excel/numformat/include -Iduckdb/extension/jemalloc/include -Iduckdb/extension/jemalloc/jemalloc/include -Iduckdb -IC:\\Users\\lenovo\\AppData\\Local\\Temp\\pip-install-dxp8uls1\\duckdb_bbe5f2a007fd4a1a968bb97851f2ff92\\src\\include -Ic:\\users\\lenovo\\appdata\\local\\temp\\pip-install-dxp8uls1\\duckdb_bbe5f2a007fd4a1a968bb97851f2ff92\\.eggs\\pybind11-2.13.6-py3.12.egg\\pybind11\\include -Ic:\\users\\lenovo\\appdata\\local\\temp\\pip-install-dxp8uls1\\duckdb_bbe5f2a007fd4a1a968bb97851f2ff92\\.eggs\\pybind11-2.13.6-py3.12.egg\\pybind11\\include -IC:\\Users\\lenovo\\anaconda3\\include -IC:\\Users\\lenovo\\anaconda3\\Include \"-IC:\\Program Files (x86)\\Microsoft Visual Studio\\2022\\BuildTools\\VC\\Tools\\MSVC\\14.41.34120\\include\" \"-IC:\\Program Files (x86)\\Microsoft Visual Studio\\2022\\BuildTools\\VC\\Auxiliary\\VS\\include\" \"-IC:\\Program Files (x86)\\Windows Kits\\10\\include\\10.0.22621.0\\ucrt\" \"-IC:\\Program Files (x86)\\Windows Kits\\10\\\\include\\10.0.22621.0\\\\um\" \"-IC:\\Program Files (x86)\\Windows Kits\\10\\\\include\\10.0.22621.0\\\\shared\" \"-IC:\\Program Files (x86)\\Windows Kits\\10\\\\include\\10.0.22621.0\\\\winrt\" \"-IC:\\Program Files (x86)\\Windows Kits\\10\\\\include\\10.0.22621.0\\\\cppwinrt\" \"-IC:\\Program Files (x86)\\Windows Kits\\NETFXSDK\\4.8\\include\\um\" /EHsc /Tpduckdb/extension/icu/third_party/icu/stubdata/stubdata.cpp /Fobuild\\temp.win-amd64-cpython-312\\Release\\duckdb\\extension\\icu\\third_party\\icu\\stubdata\\stubdata.obj /wd4244 /wd4267 /wd4200 /wd26451 /wd26495 /D_CRT_SECURE_NO_WARNINGS /utf-8 -DDUCKDB_PYTHON_LIB_NAME=duckdb -DDUCKDB_BUILD_LIBRARY -DWIN32 -DBUILD_PARQUET_EXTENSION -DBUILD_ICU_EXTENSION -DBUILD_FTS_EXTENSION -DBUILD_TPCH_EXTENSION -DBUILD_JSON_EXTENSION -DBUILD_EXCEL_EXTENSION\n",
      "  stubdata.cpp\n",
      "  \"C:\\Program Files (x86)\\Microsoft Visual Studio\\2022\\BuildTools\\VC\\Tools\\MSVC\\14.41.34120\\bin\\HostX86\\x64\\cl.exe\" /c /nologo /O2 /W3 /GL /DNDEBUG /MD -Iduckdb/src/include -Iduckdb/third_party/fmt/include -Iduckdb/third_party/fsst -Iduckdb/third_party/re2 -Iduckdb/third_party/miniz -Iduckdb/third_party/utf8proc/include -Iduckdb/third_party/utf8proc -Iduckdb/third_party/hyperloglog -Iduckdb/third_party/fastpforlib -Iduckdb/third_party/tdigest -Iduckdb/third_party/libpg_query/include -Iduckdb/third_party/libpg_query -Iduckdb/third_party/concurrentqueue -Iduckdb/third_party/pcg -Iduckdb/third_party/httplib -Iduckdb/third_party/fast_float -Iduckdb/third_party/mbedtls -Iduckdb/third_party/mbedtls/include -Iduckdb/third_party/mbedtls/library -Iduckdb/third_party/jaro_winkler -Iduckdb/third_party/jaro_winkler/details -Iduckdb/extension/parquet/include -Iduckdb/third_party/parquet -Iduckdb/third_party/snappy -Iduckdb/third_party/thrift -Iduckdb/third_party/zstd/include -Iduckdb/extension/icu/include -Iduckdb/extension/icu/third_party/icu/common -Iduckdb/extension/icu/third_party/icu/i18n -Iduckdb/extension/fts/include -Iduckdb/third_party/snowball/libstemmer -Iduckdb/third_party/snowball/runtime -Iduckdb/third_party/snowball/src_c -Iduckdb/extension/tpch/include -Iduckdb/extension/tpch/dbgen/include -Iduckdb/extension/tpcds/include -Iduckdb/extension/tpcds/dsdgen/include -Iduckdb/extension/tpcds/dsdgen/include/dsdgen-c -Iduckdb/extension/visualizer/include -Iduckdb/extension/json/include -Iduckdb/extension/json/yyjson/include -Iduckdb/extension/excel/include -Iduckdb/extension/excel/numformat/include -Iduckdb/extension/jemalloc/include -Iduckdb/extension/jemalloc/jemalloc/include -Iduckdb -IC:\\Users\\lenovo\\AppData\\Local\\Temp\\pip-install-dxp8uls1\\duckdb_bbe5f2a007fd4a1a968bb97851f2ff92\\src\\include -Ic:\\users\\lenovo\\appdata\\local\\temp\\pip-install-dxp8uls1\\duckdb_bbe5f2a007fd4a1a968bb97851f2ff92\\.eggs\\pybind11-2.13.6-py3.12.egg\\pybind11\\include -Ic:\\users\\lenovo\\appdata\\local\\temp\\pip-install-dxp8uls1\\duckdb_bbe5f2a007fd4a1a968bb97851f2ff92\\.eggs\\pybind11-2.13.6-py3.12.egg\\pybind11\\include -IC:\\Users\\lenovo\\anaconda3\\include -IC:\\Users\\lenovo\\anaconda3\\Include \"-IC:\\Program Files (x86)\\Microsoft Visual Studio\\2022\\BuildTools\\VC\\Tools\\MSVC\\14.41.34120\\include\" \"-IC:\\Program Files (x86)\\Microsoft Visual Studio\\2022\\BuildTools\\VC\\Auxiliary\\VS\\include\" \"-IC:\\Program Files (x86)\\Windows Kits\\10\\include\\10.0.22621.0\\ucrt\" \"-IC:\\Program Files (x86)\\Windows Kits\\10\\\\include\\10.0.22621.0\\\\um\" \"-IC:\\Program Files (x86)\\Windows Kits\\10\\\\include\\10.0.22621.0\\\\shared\" \"-IC:\\Program Files (x86)\\Windows Kits\\10\\\\include\\10.0.22621.0\\\\winrt\" \"-IC:\\Program Files (x86)\\Windows Kits\\10\\\\include\\10.0.22621.0\\\\cppwinrt\" \"-IC:\\Program Files (x86)\\Windows Kits\\NETFXSDK\\4.8\\include\\um\" /EHsc /Tpduckdb/extension/jemalloc/jemalloc-extension.cpp /Fobuild\\temp.win-amd64-cpython-312\\Release\\duckdb\\extension\\jemalloc\\jemalloc-extension.obj /wd4244 /wd4267 /wd4200 /wd26451 /wd26495 /D_CRT_SECURE_NO_WARNINGS /utf-8 -DDUCKDB_PYTHON_LIB_NAME=duckdb -DDUCKDB_BUILD_LIBRARY -DWIN32 -DBUILD_PARQUET_EXTENSION -DBUILD_ICU_EXTENSION -DBUILD_FTS_EXTENSION -DBUILD_TPCH_EXTENSION -DBUILD_JSON_EXTENSION -DBUILD_EXCEL_EXTENSION\n",
      "  jemalloc-extension.cpp\n",
      "  \"C:\\Program Files (x86)\\Microsoft Visual Studio\\2022\\BuildTools\\VC\\Tools\\MSVC\\14.41.34120\\bin\\HostX86\\x64\\cl.exe\" /c /nologo /O2 /W3 /GL /DNDEBUG /MD -Iduckdb/src/include -Iduckdb/third_party/fmt/include -Iduckdb/third_party/fsst -Iduckdb/third_party/re2 -Iduckdb/third_party/miniz -Iduckdb/third_party/utf8proc/include -Iduckdb/third_party/utf8proc -Iduckdb/third_party/hyperloglog -Iduckdb/third_party/fastpforlib -Iduckdb/third_party/tdigest -Iduckdb/third_party/libpg_query/include -Iduckdb/third_party/libpg_query -Iduckdb/third_party/concurrentqueue -Iduckdb/third_party/pcg -Iduckdb/third_party/httplib -Iduckdb/third_party/fast_float -Iduckdb/third_party/mbedtls -Iduckdb/third_party/mbedtls/include -Iduckdb/third_party/mbedtls/library -Iduckdb/third_party/jaro_winkler -Iduckdb/third_party/jaro_winkler/details -Iduckdb/extension/parquet/include -Iduckdb/third_party/parquet -Iduckdb/third_party/snappy -Iduckdb/third_party/thrift -Iduckdb/third_party/zstd/include -Iduckdb/extension/icu/include -Iduckdb/extension/icu/third_party/icu/common -Iduckdb/extension/icu/third_party/icu/i18n -Iduckdb/extension/fts/include -Iduckdb/third_party/snowball/libstemmer -Iduckdb/third_party/snowball/runtime -Iduckdb/third_party/snowball/src_c -Iduckdb/extension/tpch/include -Iduckdb/extension/tpch/dbgen/include -Iduckdb/extension/tpcds/include -Iduckdb/extension/tpcds/dsdgen/include -Iduckdb/extension/tpcds/dsdgen/include/dsdgen-c -Iduckdb/extension/visualizer/include -Iduckdb/extension/json/include -Iduckdb/extension/json/yyjson/include -Iduckdb/extension/excel/include -Iduckdb/extension/excel/numformat/include -Iduckdb/extension/jemalloc/include -Iduckdb/extension/jemalloc/jemalloc/include -Iduckdb -IC:\\Users\\lenovo\\AppData\\Local\\Temp\\pip-install-dxp8uls1\\duckdb_bbe5f2a007fd4a1a968bb97851f2ff92\\src\\include -Ic:\\users\\lenovo\\appdata\\local\\temp\\pip-install-dxp8uls1\\duckdb_bbe5f2a007fd4a1a968bb97851f2ff92\\.eggs\\pybind11-2.13.6-py3.12.egg\\pybind11\\include -Ic:\\users\\lenovo\\appdata\\local\\temp\\pip-install-dxp8uls1\\duckdb_bbe5f2a007fd4a1a968bb97851f2ff92\\.eggs\\pybind11-2.13.6-py3.12.egg\\pybind11\\include -IC:\\Users\\lenovo\\anaconda3\\include -IC:\\Users\\lenovo\\anaconda3\\Include \"-IC:\\Program Files (x86)\\Microsoft Visual Studio\\2022\\BuildTools\\VC\\Tools\\MSVC\\14.41.34120\\include\" \"-IC:\\Program Files (x86)\\Microsoft Visual Studio\\2022\\BuildTools\\VC\\Auxiliary\\VS\\include\" \"-IC:\\Program Files (x86)\\Windows Kits\\10\\include\\10.0.22621.0\\ucrt\" \"-IC:\\Program Files (x86)\\Windows Kits\\10\\\\include\\10.0.22621.0\\\\um\" \"-IC:\\Program Files (x86)\\Windows Kits\\10\\\\include\\10.0.22621.0\\\\shared\" \"-IC:\\Program Files (x86)\\Windows Kits\\10\\\\include\\10.0.22621.0\\\\winrt\" \"-IC:\\Program Files (x86)\\Windows Kits\\10\\\\include\\10.0.22621.0\\\\cppwinrt\" \"-IC:\\Program Files (x86)\\Windows Kits\\NETFXSDK\\4.8\\include\\um\" /EHsc /Tpduckdb/extension/jemalloc/jemalloc/src/arena.cpp /Fobuild\\temp.win-amd64-cpython-312\\Release\\duckdb\\extension\\jemalloc\\jemalloc\\src\\arena.obj /wd4244 /wd4267 /wd4200 /wd26451 /wd26495 /D_CRT_SECURE_NO_WARNINGS /utf-8 -DDUCKDB_PYTHON_LIB_NAME=duckdb -DDUCKDB_BUILD_LIBRARY -DWIN32 -DBUILD_PARQUET_EXTENSION -DBUILD_ICU_EXTENSION -DBUILD_FTS_EXTENSION -DBUILD_TPCH_EXTENSION -DBUILD_JSON_EXTENSION -DBUILD_EXCEL_EXTENSION\n",
      "  arena.cpp\n",
      "  duckdb/extension/jemalloc/jemalloc/include\\jemalloc/jemalloc.h(267): error C2485: '__declspec(__restrict)' is not a recognized extended attribute\n",
      "  duckdb/extension/jemalloc/jemalloc/include\\jemalloc/jemalloc.h(269): error C2485: '__declspec(__restrict)' is not a recognized extended attribute\n",
      "  duckdb/extension/jemalloc/jemalloc/include\\jemalloc/jemalloc.h(273): error C2485: '__declspec(__restrict)' is not a recognized extended attribute\n",
      "  duckdb/extension/jemalloc/jemalloc/include\\jemalloc/jemalloc.h(275): error C2485: '__declspec(__restrict)' is not a recognized extended attribute\n",
      "  duckdb/extension/jemalloc/jemalloc/include\\jemalloc/jemalloc.h(279): error C2485: '__declspec(__restrict)' is not a recognized extended attribute\n",
      "  duckdb/extension/jemalloc/jemalloc/include\\jemalloc/jemalloc.h(281): error C2485: '__declspec(__restrict)' is not a recognized extended attribute\n",
      "  duckdb/extension/jemalloc/jemalloc/include\\jemalloc/internal/jemalloc_internal_macros.h(36): warning C4005: 'restrict': macro redefinition\n",
      "  duckdb/extension/jemalloc/jemalloc/include\\jemalloc/internal/jemalloc_internal_decls.h(87): note: see previous definition of 'restrict'\n",
      "  error: command 'C:\\\\Program Files (x86)\\\\Microsoft Visual Studio\\\\2022\\\\BuildTools\\\\VC\\\\Tools\\\\MSVC\\\\14.41.34120\\\\bin\\\\HostX86\\\\x64\\\\cl.exe' failed with exit code 2\n",
      "  [end of output]\n",
      "  \n",
      "  note: This error originates from a subprocess, and is likely not a problem with pip.\n",
      "  ERROR: Failed building wheel for duckdb\n",
      "ERROR: Failed to build installable wheels for some pyproject.toml based projects (duckdb)\n"
     ]
    }
   ],
   "source": [
    "# ! pip install python-dotenv\n",
    "# ! pip -q install --upgrade langchain-openai python-docx PyPDF2 pypdf\n",
    "# ! pip install chromadb langchain openai langchain-chroma chroma-migrate"
   ]
  },
  {
   "cell_type": "code",
   "execution_count": 18,
   "id": "9e0e6883-4941-465f-9268-4573ce533880",
   "metadata": {},
   "outputs": [
    {
     "name": "stdout",
     "output_type": "stream",
     "text": [
      "ChromaDB SDK version: 0.5.23\n"
     ]
    }
   ],
   "source": [
    "import chromadb\n",
    "print(\"ChromaDB SDK version:\", chromadb.__version__)"
   ]
  },
  {
   "cell_type": "markdown",
   "id": "0dad2d3b-d9cc-43f7-897c-b58e99db154c",
   "metadata": {},
   "source": [
    "# Load Secrets"
   ]
  },
  {
   "cell_type": "code",
   "execution_count": 15,
   "id": "0eeb2823-0991-4cea-80e7-db7f23902aa5",
   "metadata": {},
   "outputs": [
    {
     "name": "stdout",
     "output_type": "stream",
     "text": [
      "GROQ_API_KEY: True\n",
      "OPENAI_API_KEY: True\n"
     ]
    }
   ],
   "source": [
    "import os\n",
    "from dotenv import load_dotenv\n",
    "from pathlib import Path\n",
    "\n",
    "# Move up one directory to find .env\n",
    "env_path = Path.cwd().parent / '.env'\n",
    "\n",
    "# Load the .env file\n",
    "load_dotenv(dotenv_path=env_path)\n",
    "\n",
    "# Access your keys\n",
    "groq_api_key = os.getenv('GROQ_API_KEY')\n",
    "openai_api_key = os.getenv('OPENAI_API_KEY')\n",
    "\n",
    "print(f\"GROQ_API_KEY: {bool(groq_api_key)}\")\n",
    "print(f\"OPENAI_API_KEY: {bool(openai_api_key)}\")\n"
   ]
  },
  {
   "cell_type": "markdown",
   "id": "1a6b1ae0-c3b6-4f5c-937c-35462f032b34",
   "metadata": {},
   "source": [
    "# Initialize ChromaDB & LangChain"
   ]
  },
  {
   "cell_type": "code",
   "execution_count": 20,
   "id": "e6f27a44-963a-4462-96ef-a3d49844c2ed",
   "metadata": {},
   "outputs": [],
   "source": [
    "from langchain_openai import OpenAIEmbeddings\n",
    "\n",
    "embeddings = OpenAIEmbeddings(model=\"text-embedding-3-large\")"
   ]
  },
  {
   "cell_type": "code",
   "execution_count": 21,
   "id": "1d76b020-058b-47e4-abd4-46727dc54ca6",
   "metadata": {},
   "outputs": [
    {
     "name": "stdout",
     "output_type": "stream",
     "text": [
      "✅ LangChain + Chroma vector store ready (persistent, local)!\n"
     ]
    }
   ],
   "source": [
    "from langchain_chroma import Chroma\n",
    "\n",
    "vector_store = Chroma(\n",
    "    collection_name=\"example_collection\",\n",
    "    embedding_function=embeddings,\n",
    "    persist_directory=\"./chroma_db\",  # Where to save data locally, remove if not necessary\n",
    ")\n",
    "\n",
    "\n",
    "print(\"✅ LangChain + Chroma vector store ready (persistent, local)!\")"
   ]
  },
  {
   "cell_type": "markdown",
   "id": "9a09a84c-6f36-45a3-ad36-54078cfd9aae",
   "metadata": {},
   "source": [
    "# Load your files, split into chunks, and upsert into ChromaDB"
   ]
  },
  {
   "cell_type": "code",
   "execution_count": 29,
   "id": "3cb8fc17-4b9b-450b-af4b-ab570f2df1cb",
   "metadata": {},
   "outputs": [
    {
     "name": "stdout",
     "output_type": "stream",
     "text": [
      "Loaded 53 document chunks from 2 files.\n",
      "Split into 179 total chunks.\n"
     ]
    }
   ],
   "source": [
    "import os\n",
    "from langchain.document_loaders import PyPDFLoader, Docx2txtLoader, TextLoader\n",
    "from langchain.text_splitter import RecursiveCharacterTextSplitter\n",
    "\n",
    "DATA_DIR = \"./data\"\n",
    "\n",
    "# 1. Load & tag raw docs\n",
    "raw_docs = []\n",
    "for fname in os.listdir(DATA_DIR):\n",
    "    path = os.path.join(DATA_DIR, fname)\n",
    "    if fname.lower().endswith(\".pdf\"):\n",
    "        loader = PyPDFLoader(path)\n",
    "    elif fname.lower().endswith(\".docx\"):\n",
    "        loader = Docx2txtLoader(path)\n",
    "    elif fname.lower().endswith(\".txt\"):\n",
    "        loader = TextLoader(path, encoding=\"utf-8\")\n",
    "    else:\n",
    "        continue\n",
    "\n",
    "    docs = loader.load()\n",
    "    # attach filename so we can delete/update later\n",
    "    for d in docs:\n",
    "        d.metadata[\"source\"] = fname\n",
    "    raw_docs.extend(docs)\n",
    "\n",
    "print(f\"Loaded {len(raw_docs)} document chunks from {len(os.listdir(DATA_DIR))} files.\")\n",
    "\n",
    "# 2. Split into manageable pieces\n",
    "splitter = RecursiveCharacterTextSplitter(chunk_size=1000, chunk_overlap=100)\n",
    "chunks = splitter.split_documents(raw_docs)\n",
    "print(f\"Split into {len(chunks)} total chunks.\")"
   ]
  },
  {
   "cell_type": "code",
   "execution_count": 31,
   "id": "879c2f91-9c36-4b58-a58d-8e94162961c9",
   "metadata": {},
   "outputs": [
    {
     "name": "stdout",
     "output_type": "stream",
     "text": [
      "page_content='Addendum: Fitting the DESI BAO Data with Dark\n",
      "Energy Driven by the Cohen–Kaplan–Nelson Bound\n",
      "Patrick Adolf1∗, Martin Hirsch2†, Sara Krieg1‡, Heinrich P¨ as1§, Mustafa Tabet1¶\n",
      "1Fakult¨ at f¨ ur Physik, Technische Universit¨ at Dortmund, D-44221 Dortmund, Germany\n",
      "2Instituto de F` ısica Corpuscular (IFIC), Universidad de Valencia-CSIC,\n",
      "E-46980 Valencia, Spain\n",
      "April 23, 2025\n",
      "Abstract\n",
      "Motivated by the recent Year-2 data release of the DESI collaboration, we update our results on time-\n",
      "varying dark energy models driven by the Cohen–Kaplan–Nelson bound. The previously found preference of\n",
      "time-dependent dark energy models compared to ΛCDM is further strengthend by the new data release. For\n",
      "our particular models, we find that this preference increases up to ≈ 2.6 σ depending on the used supernova\n",
      "dataset.\n",
      "1 Introduction\n",
      "In this addendum, we update the results of our previous work [1] in the light of the recent Year-2 data release' metadata={'producer': 'pdfTeX-1.40.25', 'creator': 'LaTeX with hyperref', 'creationdate': '2025-04-23T00:02:31+00:00', 'author': '', 'keywords': '', 'moddate': '2025-04-23T00:02:31+00:00', 'ptex.fullbanner': 'This is pdfTeX, Version 3.141592653-2.6-1.40.25 (TeX Live 2023) kpathsea version 6.3.5', 'subject': '', 'title': '', 'trapped': '/False', 'source': 'astro_physics_1.pdf', 'total_pages': 8, 'page': 0, 'page_label': '1'}\n"
     ]
    }
   ],
   "source": [
    "print(chunks[0])"
   ]
  },
  {
   "cell_type": "code",
   "execution_count": 35,
   "id": "b27d1612-f99a-4feb-a953-4f69d56a64f6",
   "metadata": {},
   "outputs": [
    {
     "name": "stdout",
     "output_type": "stream",
     "text": [
      "astro_physics_1.pdf\n"
     ]
    }
   ],
   "source": [
    "# For a single document\n",
    "print(chunks[0].metadata['source'])\n",
    "\n",
    "# # To print the file names of all documents\n",
    "# for doc in chunks:\n",
    "#     print(doc.metadata['source'])"
   ]
  },
  {
   "cell_type": "markdown",
   "id": "ec7efe23-0c9e-46cb-b6d3-cb997869eddb",
   "metadata": {},
   "source": [
    "# Insert Embeddings into ChromaDB"
   ]
  },
  {
   "cell_type": "code",
   "execution_count": 41,
   "id": "aef3e60b-0beb-4398-bb48-8cd29482e33b",
   "metadata": {},
   "outputs": [
    {
     "name": "stdout",
     "output_type": "stream",
     "text": [
      "✔️ Ingested 179 chunks into 'file_embeddings' collection.\n"
     ]
    }
   ],
   "source": [
    "# 3. Upsert your document chunks\n",
    "vector_store.add_documents(chunks)\n",
    "\n",
    "# 4. Write everything immediately to disk\n",
    "# vector_store.persist()\n",
    "\n",
    "print(f\"✔️ Ingested {len(chunks)} chunks into 'file_embeddings' collection.\")"
   ]
  },
  {
   "cell_type": "markdown",
   "id": "a00c8c0b-0bb4-495e-a7a2-b008c34f4e23",
   "metadata": {},
   "source": [
    "# Filter and Query Using Filename"
   ]
  },
  {
   "cell_type": "code",
   "execution_count": 43,
   "id": "994afc42-18fa-4fd2-bae5-a62c601c01b4",
   "metadata": {},
   "outputs": [
    {
     "name": "stdout",
     "output_type": "stream",
     "text": [
      "🔍 Found 163 embeddings for 'CSE_1.pdf':\n",
      "['72c7c99c-2353-4cb0-b062-9d164da1811d', '85965409-3ee3-4e67-aa33-837b6987b3ca', '10b10807-24cb-4c24-adba-8043ece05a44', '4d9146e9-d15e-4f13-98ff-68c2d70e9fe4', 'da4cec38-1d39-48dd-a0b5-9c7794d8bff2', '3d1a1341-d95f-42a3-974e-4dfe5e89157d', '9fe62d75-36fa-4f37-b6f8-d93bf1717c4a', '34a38db5-e823-4dbc-aea9-00a7b316f2a5', 'cb40398f-5a0f-4a06-88fb-31d89ef3013a', 'd7626970-b48c-49f4-8f78-010bb9c79a57', 'dc2aac5e-bbf3-4d86-a343-5056327d3b98', '5e42eed3-9fef-490a-9b6c-ee3dc34273eb', '7349472c-13aa-4098-8dcd-10a62adc792f', '69633824-8d2a-4941-bb8f-b05c66585af9', 'a9ef68ea-213a-4e01-86ad-1776e3565d57', '310b471d-1481-454b-9beb-43200549e07d', 'b4d67271-386d-4ef2-8d33-6ebc02598b39', '132a34d0-80c5-41d1-a3f7-e7b5aab5dfd3', '483a14a0-4da7-46cc-8dad-7cb92b0136c9', 'a0feb1b1-496b-45af-93a2-124aafce6b0b', 'b4f2bb00-5554-409d-bfc8-08d3842f567e', '81d8b252-6642-4cc0-9bcf-a6f0fabd5854', '423406f6-d11c-4e56-ac88-0b561138cbcb', '464f7d80-146e-4a2c-8cb0-c33c98742f3b', 'f9b4505f-d935-4f8b-ad9b-156736ef7830', '7c4d4444-6c66-4420-8361-e957130e58cb', '4123694d-70f9-4a33-b9cd-b47b5c4c3fae', '90e70d63-26f3-47f2-b433-dac265fb4f5c', 'b70e257f-8c1b-4a6d-83eb-c48a1807e364', '998be722-d821-4491-80f4-8e95640d4af6', '66f252b0-b396-4ad4-8f22-2ce6a22cdbf4', 'b678447e-972c-4473-907f-2a9a67974c34', '7134fbe8-df77-4b9f-8808-f16b9d5c0b30', '4e9a7b23-71b7-45a5-b454-99501f222fe7', 'b1de4386-e3f6-431d-9ff4-8f4529191144', '814150b8-f753-48a2-b097-71914222209e', '4bd72674-52be-44fd-9a60-e4fe8eba92cd', 'e6a717af-3c70-481d-bcb7-c8e7061158cf', '2c5d9040-7979-447c-96ed-3851c8789fa2', 'e3f6bd4b-e342-4b8d-9af0-6ec2829d9c71', 'cf77cb31-63c5-42be-b3b8-24e80a73b4ed', 'd82f3da5-309b-4e72-b7f5-fe44fc43cd42', '657a83d3-4c0c-4701-9fe0-9068c3ee0223', 'e89dd60e-080f-4165-9d0f-a2738d8ec8f2', '78788ca8-6c1c-4bf7-8015-74fee56e12d8', '0997d642-caa4-45ff-b54b-90988e4372cc', '0ea3e124-87ed-41bd-9e0f-bd2806ee42df', '9e610909-ed01-4a50-b29c-e725eb663721', '1f08ab9d-3b84-4449-9081-a2da92d12d27', '65e982df-d946-438f-96b3-09674fa313c0', '5f781141-07bc-451a-959b-5e42755785d4', 'b341c47c-ad79-4d3a-a5f9-3226213af58e', '9d191519-1dc4-4ef9-ac4e-fc541d4aa5d4', 'b400293b-6b70-4a20-bafd-0b2fe6ddc49c', '81be08be-2cc6-480b-a7ef-5d986e71c1a9', 'e890278f-32aa-4a68-88db-72fe6cfe1f8b', '4dbb619c-b9a1-4870-8368-7b9b55442b3a', '39f7a51f-5824-496a-bc5e-5ae0cdecad0a', 'e52fdbba-90ed-46d5-84e4-0de7b7978177', '160a6fe7-c7c5-4d08-8532-7bdadc62fd4c', 'f08e19e2-83b7-4fb6-a183-7e128d8beb22', 'cfeb5d47-d6d0-4364-9222-bd40305325ca', '270ae7fa-da78-49e9-a500-edd3a1d6075e', '738f9409-5488-4327-86dd-cadd066a6e1a', '72dc6577-6ce8-46c8-a343-004e2f581066', '2219f202-5f92-4250-a507-2b507f2f152a', '2b05e1d0-3134-4f2b-a057-1c338450847b', 'ed88f386-cabb-48af-b9e3-d0d9499167dd', '1b2484e2-ed3f-448d-9a7d-578931236ebf', '971efe12-ee39-4692-a630-4119f9dbb956', 'a2d3311f-086c-4ec9-88a8-d08ab1e3c153', 'affd5ae9-4110-4481-97bf-92ea538f0ff0', '17df1abd-a165-4510-a59f-e7d27d8921f1', '55fedf97-84fd-45c8-862f-da419840bd4b', '082c782e-40c8-4059-a2ec-12ee2e5b0237', '767708fc-3c90-49e6-aa53-e04103dea5fb', 'e28577bb-e16d-4d8f-b05e-1a657da3e0b6', '1717b259-7cc1-4303-8ff5-50e551e71711', 'b0b49e45-fe6b-468b-873a-f3a81b08b7c6', 'a44af9ea-a508-4800-9230-8833a7bb1e83', '923daf1d-d73e-4649-bfcd-4ddd32750f2c', '59c94a2a-2efe-45c9-b642-71db6257b4c6', 'a6b759d1-6262-42af-a8ce-722c5beb5bf5', '1ddb8912-c115-4265-a23b-e946e737664f', '55e4a2de-bccb-43e5-88b0-701d0e3a4fe1', '817aba64-8c45-49d9-b276-3c9b5d8bab9d', '620fe77a-3fab-4984-935d-836b151474bc', '2b8b949f-eba3-42ab-b8b4-30b2cde4d04d', 'aa536a3d-7590-497b-9815-a1340b168936', 'b1a0f36a-cc78-448e-a5d6-47f53d0e0f87', '8b74eba1-8617-4573-96b9-a1bc574fb773', '1df6f705-251f-4b85-8b6b-e5bc7df38ca9', '956e3b87-d60e-43ae-bb06-42090a71b4cf', 'cad902df-20d9-4a7c-8ea7-f90f72455091', 'c23c04fc-3a81-474e-b61d-0dd4e82e67f4', '091a2502-e6d8-46eb-aeef-9b5399b46920', '7afffc5b-4cfe-4155-a7bc-c0d4caf2e0a1', 'd4300cf1-247e-46d6-9ce1-43f5f02be3e8', '3f918adf-cf73-432c-9094-f79f21d97fd9', 'e0f188ca-2c93-4190-b534-80b30ddb5893', '9c426aab-77c1-4d5c-972a-83874b0bd067', '132a0093-d52b-492e-93b7-6ad89bc38657', 'fae97568-f1a8-424d-bcaa-3ca9ab0af57d', '0702251f-58ab-4b51-a254-e2a8e82e2acd', '8cc1e834-29c0-4211-a2ad-f912af0b0da4', '8193c10b-1f45-44c3-91b8-2b5a5daa0d1b', 'c39438e5-a66b-464f-bdab-e423c7ea7f0e', '4d343973-1180-41b2-a314-d4fb61e23be1', '01177c20-6d18-48d0-8f13-54250cdf647d', '2e8c6332-2338-463f-9f83-6727382951b9', '4ac3c893-4ab6-4095-a0e6-a26e7198e8d0', '15d1dcee-35af-4ec0-850f-1c149eb438b8', '4143ce8f-e325-45c2-a098-a470e39a9300', 'c5aa464e-9248-4451-9524-c605e699fea5', 'ede83b5c-fcc1-45d5-a9f0-eb876b02a070', 'fe836d1e-b3f1-4593-833d-b84bc435dad4', '02ad0386-36c8-429a-bf90-244a6efb6c87', '44ca7170-c78e-4843-b2a2-bd73f99482fb', '83a69c78-b43a-48ee-a9c1-e738e7afb8ec', '26ebe019-704b-40ce-9109-a0641f73b186', '1092c5d5-121d-4e96-b4e4-5e61f707c6e8', 'dd2ba088-37d6-484c-b4aa-e0587020d838', '7d942806-ca74-4d6f-ab5d-3164de946146', '1adf3ed4-e42c-4a25-aded-73550b806da0', '0e5f7967-d98f-4aa8-a9d9-f03015d1332d', 'b15d7af5-4764-419a-a502-00484777b95d', 'ce23d0bf-81ca-463e-8463-8207daf1fc3b', '8bb9e847-cb81-4297-9c16-84d218cbe77e', '6d9f5e1c-f321-440f-bdb7-e1716ecdf987', 'ffc597db-c510-4671-82a6-63611aaf96f3', 'acfa355a-e4dc-4f2b-bc95-5a233e4d2cd8', '69164324-e9f6-4d12-a0e0-4483eb50fcd2', '33d93ab8-34c1-4e3d-bb9a-27a1490e068a', '58ac7630-dfdc-494a-ba3d-7a4e4828d6c6', '0058d1f7-fee8-4e51-96bd-d3635ef62af9', 'a6f57b62-55f4-4c9c-b3d9-4965001286b1', '8d8502e7-0924-435f-929b-7c443f672250', 'd6cde370-43f9-4e0f-b0a3-f27bbb17dfd0', '2a585eaa-9588-40d1-a6b3-5bc51a4d9294', '2aa06bc1-5a69-4c20-bcbe-63afd4c00594', '516af6fa-b392-4cd0-9bfc-7af4ed362dd6', '3f15b267-8a29-4bf5-81a1-11a2bc0b39a9', '3e023826-70a6-4705-b8bc-651246a6175b', 'e02e60a0-c79a-4111-90d2-53679ae8816d', '57956662-755d-4569-8747-9667b8b9d9a1', '1b007550-c965-425a-b40f-cd46e545948e', '429db598-53d8-4218-9bb2-5ec7fd22e5c1', '34024566-9716-4a45-b66b-b0e517698f32', 'e07fa043-fbe3-49dd-9a51-dd43ffc087b5', 'e3978102-f20d-475d-80e0-ec77cc2d82c8', 'a531f7e8-19e7-4a67-a904-0ea23c67decc', 'dbdc3458-6b72-4606-9202-735c42143dd6', '68c63e9e-b262-41e3-aa46-11fa60a4515e', '072ce5ad-8937-421b-9b83-d7a0a863235d', 'cc8cf08e-90df-49df-b9a5-0cb2bf251c42', '8e5f9de2-2fe4-4a30-b818-9569d55c670f', '74514687-8956-4421-9928-4f9738806291', '46965ceb-e3c6-454a-afa9-055412b32d86', 'be5d2026-2e23-48a8-9f07-5a0f2f2597b9', 'ffc74046-74cf-4640-9876-33a9c273d53c', '6b7ef89e-97c5-41fa-abd4-56847db6f0c1', '7932b9e9-8e1d-4d37-a656-ec0a430cf2f6', '597f7d3d-deae-445a-8c61-f396c6e0c007']\n"
     ]
    }
   ],
   "source": [
    "# # Replace with your actual filename\n",
    "file_name = \"CSE_1.pdf\"\n",
    "\n",
    "col = vector_store._collection\n",
    "\n",
    "#  Use a metadata “where” filter to get only that file’s vectors\n",
    "results = col.get(\n",
    "    where={\"source\": file_name}\n",
    "    # include=[\"metadatas\"]    # <-- you can include metadatas/documents if you want, but not \"ids\"\n",
    ")\n",
    "vector_ids = results[\"ids\"]\n",
    "\n",
    "print(f\"🔍 Found {len(vector_ids)} embeddings for '{file_name}':\\n{vector_ids}\")"
   ]
  },
  {
   "cell_type": "markdown",
   "id": "4b5db367-065b-4498-b92c-c9dc86cda7a7",
   "metadata": {},
   "source": [
    "# Create a Retriever (For RAG)"
   ]
  },
  {
   "cell_type": "code",
   "execution_count": 46,
   "id": "ebcb0bbf-edb1-4df6-815a-9a6b856c9b4f",
   "metadata": {},
   "outputs": [
    {
     "name": "stdout",
     "output_type": "stream",
     "text": [
      "Retriever initialized: tags=['Chroma', 'OpenAIEmbeddings'] vectorstore=<langchain_chroma.vectorstores.Chroma object at 0x0000012B1970FC20> search_type='mmr' search_kwargs={'k': 1, 'fetch_k': 5}\n"
     ]
    }
   ],
   "source": [
    "# Step 1: build your retriever (no extra imports needed)\n",
    "retriever =  vector_store.as_retriever(\n",
    "    search_type=\"mmr\", search_kwargs={\"k\": 1, \"fetch_k\": 5}\n",
    ")\n",
    "print(\"Retriever initialized:\", retriever)"
   ]
  },
  {
   "cell_type": "markdown",
   "id": "a47488cd-5e1a-40b4-b236-72c2560ea4c3",
   "metadata": {},
   "source": [
    "# Create the RetrievalQA chain"
   ]
  },
  {
   "cell_type": "code",
   "execution_count": 49,
   "id": "4ae4f3a1-2a6a-4072-8f6b-6ecd4c69fa57",
   "metadata": {},
   "outputs": [
    {
     "name": "stdout",
     "output_type": "stream",
     "text": [
      "✅ RetrievalQA chain is ready\n"
     ]
    }
   ],
   "source": [
    "from langchain_openai import ChatOpenAI\n",
    "from langchain.chains import RetrievalQA\n",
    "\n",
    "# 1. Instantiate an LLM\n",
    "llm = ChatOpenAI(temperature=0)\n",
    "\n",
    "# 2. Build the RetrievalQA chain\n",
    "qa_chain = RetrievalQA.from_chain_type(\n",
    "    llm=llm,\n",
    "    chain_type=\"stuff\",\n",
    "    retriever=retriever,\n",
    "    return_source_documents=True\n",
    ")\n",
    "\n",
    "print(\"✅ RetrievalQA chain is ready\")\n"
   ]
  },
  {
   "cell_type": "markdown",
   "id": "6f0b78e7-d4fd-4238-b0b0-724aa320fa29",
   "metadata": {},
   "source": [
    "# Test your RetrievalQA chain"
   ]
  },
  {
   "cell_type": "code",
   "execution_count": 52,
   "id": "a9dc402b-98ba-41f1-8f33-01dc076b82d4",
   "metadata": {},
   "outputs": [
    {
     "name": "stdout",
     "output_type": "stream",
     "text": [
      "📝 Answer:\n",
      " In Learning in Dynamic Bayesian Stackelberg Games, the leader's focus is on maximizing their utility over the rounds of the game rather than identifying the follower's type, which is common in traditional learning paradigms. The leader plays a Dynamic Bayesian Stackelberg Policy (DSP) that specifies their strategy at each round, committing to it before the game starts. The follower observes this policy in advance. The optimal DSP is called the Dynamic Bayesian Stackelberg Equilibrium (DSE). This approach is used in various fields such as dynamic pricing problems, dynamic mechanism design, and Stackelberg security games.\n",
      "\n",
      "🔍 Source chunks:\n",
      "- CSE_1.pdf (chunk snippet: drawn from µ. We denote a specific dynamic Bayesian Stackelberg game as {R, Θ, {Cθ}θ∈Θ, µ, T}.\n",
      "The leader plays a Dynamic Bayesian Stackelberg Policy ...)\n"
     ]
    }
   ],
   "source": [
    "# 1. Define your query\n",
    "# query = \"What are the main topics covered in CSE_1.pdf?\"\n",
    "query = \"Tell me about Learning in Dynamic Bayesian Stackelberg Games\"\n",
    "\n",
    "# 2. Run the RetrievalQA chain\n",
    "result =  qa_chain.invoke({\"query\": query})\n",
    "\n",
    "# 3. Print the answer\n",
    "print(\"📝 Answer:\\n\", result[\"result\"])\n",
    "\n",
    "# 4. Inspect source documents\n",
    "print(\"\\n🔍 Source chunks:\")\n",
    "for doc in result[\"source_documents\"]:\n",
    "    print(f\"- {doc.metadata['source']} (chunk snippet: {doc.page_content[:150]}...)\")"
   ]
  },
  {
   "cell_type": "markdown",
   "id": "5a4f23e3-0b35-4493-b372-09d2dc84de0d",
   "metadata": {},
   "source": [
    "# Initiate Agno Agent"
   ]
  },
  {
   "cell_type": "code",
   "execution_count": 65,
   "id": "2389c05b-f6ab-460d-8cd1-eb9fd649c69d",
   "metadata": {},
   "outputs": [],
   "source": [
    "from agno.agent import Agent\n",
    "from agno.tools.duckduckgo import DuckDuckGoTools\n",
    "from agno.knowledge.langchain import LangChainKnowledgeBase\n",
    "from langchain_openai import ChatOpenAI\n",
    "from langchain.chains import RetrievalQA\n",
    "from pydantic import BaseModel, Field\n",
    "from typing import List"
   ]
  },
  {
   "cell_type": "code",
   "execution_count": 69,
   "id": "14a2d094-8133-41b9-8263-73b9d309d644",
   "metadata": {},
   "outputs": [],
   "source": [
    "# Knowledge Base\n",
    "knowledge_base = LangChainKnowledgeBase(retriever=retriever)\n"
   ]
  },
  {
   "cell_type": "code",
   "execution_count": 71,
   "id": "b440ecf6-42be-4bf7-8065-33af8f5b9cfe",
   "metadata": {},
   "outputs": [],
   "source": [
    "# Define Pydantic model for structured output\n",
    "class AnswerOutput(BaseModel):\n",
    "    query: str = Field(..., description=\"The user's original query.\")\n",
    "    answer: str = Field(..., description=\"The answer to the user's query.\")\n",
    "    type: str = Field(..., description=\"Source of the answer: 'Knowledge/RAG' or 'Web Search'.\")\n",
    "    sources: List[str] = Field(..., description=\"List of sources used (URLs or document names).\")\n"
   ]
  },
  {
   "cell_type": "code",
   "execution_count": 77,
   "id": "99402c7c-66da-487c-ba30-482be92b5d60",
   "metadata": {},
   "outputs": [],
   "source": [
    "# Agent with structured_output using Pydantic model\n",
    "agent = Agent(\n",
    "    tools=[DuckDuckGoTools()],\n",
    "    knowledge=knowledge_base,\n",
    "    instructions=[\n",
    "        \"Try to answer the query using the knowledge base (RAG) first.\",\n",
    "        \"If the knowledge base does not contain the information or the user asks for a web search, use DuckDuckGo.\",\n",
    "        \"Return your response following the provided structured format.\"\n",
    "    ],\n",
    "    response_model=AnswerOutput,  # <-- Pydantic model here\n",
    "    show_tool_calls=True,\n",
    "    markdown=False,\n",
    ")"
   ]
  },
  {
   "cell_type": "markdown",
   "id": "b30f1d1f-39a8-4538-a08b-b43a5e5ef425",
   "metadata": {},
   "source": [
    "# Test the agent"
   ]
  },
  {
   "cell_type": "code",
   "execution_count": 115,
   "id": "bd3fdaf2-4b03-4dfb-8447-307ca0ec8dd4",
   "metadata": {},
   "outputs": [
    {
     "name": "stdout",
     "output_type": "stream",
     "text": [
      "Start Time: 2025-06-04 16:26:14\n",
      "End Time: 2025-06-04 16:26:23\n",
      "Elapsed Time: 8.72 seconds\n"
     ]
    }
   ],
   "source": [
    "from agno.agent import RunResponse\n",
    "from rich.pretty import pprint\n",
    "from datetime import datetime\n",
    "\n",
    "start_time = datetime.now()\n",
    "print(f\"Start Time: {start_time.strftime('%Y-%m-%d %H:%M:%S')}\")\n",
    "\n",
    "# Test the agent\n",
    "# response: RunResponse = agent.run(\"What are the latest developments in AI, and how do they relate to the concepts in our knowledge base?\")\n",
    "response: RunResponse = agent.run(\"Tell me about Learning in Dynamic Bayesian Stackelberg Games\")\n",
    "\n",
    "end_time = datetime.now()\n",
    "elapsed = end_time - start_time\n",
    "\n",
    "print(f\"End Time: {end_time.strftime('%Y-%m-%d %H:%M:%S')}\")\n",
    "print(f\"Elapsed Time: {elapsed.total_seconds():.2f} seconds\")  # <-- FIXED\n"
   ]
  },
  {
   "cell_type": "code",
   "execution_count": 116,
   "id": "b7dee5a8-6b04-4441-95a2-da1fc368f821",
   "metadata": {},
   "outputs": [
    {
     "data": {
      "text/html": [
       "<pre style=\"white-space:pre;overflow-x:auto;line-height:normal;font-family:Menlo,'DejaVu Sans Mono',consolas,'Courier New',monospace\"><span style=\"color: #800080; text-decoration-color: #800080; font-weight: bold\">AnswerOutput</span><span style=\"font-weight: bold\">(</span>\n",
       "<span style=\"color: #7fbf7f; text-decoration-color: #7fbf7f\">│   </span><span style=\"color: #808000; text-decoration-color: #808000\">query</span>=<span style=\"color: #008000; text-decoration-color: #008000\">'Learning in Dynamic Bayesian Stackelberg Games'</span>,\n",
       "<span style=\"color: #7fbf7f; text-decoration-color: #7fbf7f\">│   </span><span style=\"color: #808000; text-decoration-color: #808000\">answer</span>=<span style=\"color: #008000; text-decoration-color: #008000\">\"In a Dynamic Bayesian Stackelberg Game, the leader's main objective is to maximize her utility over multiple rounds rather than just identifying the follower type. The leader commits to a Dynamic Bayesian Stackelberg Policy (DSP) before the game starts, which specifies the leader's strategy at each round. This policy is observed by the follower in advance. This type of commitment is common in literature related to dynamic pricing problems, dynamic mechanism design, and Stackelberg security games. The optimal DSP is referred to as the Dynamic Bayesian Stackelberg Equilibrium (DSE).\"</span>,\n",
       "<span style=\"color: #7fbf7f; text-decoration-color: #7fbf7f\">│   </span><span style=\"color: #808000; text-decoration-color: #808000\">type</span>=<span style=\"color: #008000; text-decoration-color: #008000\">'Knowledge/RAG'</span>,\n",
       "<span style=\"color: #7fbf7f; text-decoration-color: #7fbf7f\">│   </span><span style=\"color: #808000; text-decoration-color: #808000\">sources</span>=<span style=\"font-weight: bold\">[</span><span style=\"color: #008000; text-decoration-color: #008000\">'CSE_1.pdf'</span><span style=\"font-weight: bold\">]</span>\n",
       "<span style=\"font-weight: bold\">)</span>\n",
       "</pre>\n"
      ],
      "text/plain": [
       "\u001b[1;35mAnswerOutput\u001b[0m\u001b[1m(\u001b[0m\n",
       "\u001b[2;32m│   \u001b[0m\u001b[33mquery\u001b[0m=\u001b[32m'Learning in Dynamic Bayesian Stackelberg Games'\u001b[0m,\n",
       "\u001b[2;32m│   \u001b[0m\u001b[33manswer\u001b[0m=\u001b[32m\"In\u001b[0m\u001b[32m a Dynamic Bayesian Stackelberg Game, the leader's main objective is to maximize her utility over multiple rounds rather than just identifying the follower type. The leader commits to a Dynamic Bayesian Stackelberg Policy \u001b[0m\u001b[32m(\u001b[0m\u001b[32mDSP\u001b[0m\u001b[32m)\u001b[0m\u001b[32m before the game starts, which specifies the leader's strategy at each round. This policy is observed by the follower in advance. This type of commitment is common in literature related to dynamic pricing problems, dynamic mechanism design, and Stackelberg security games. The optimal DSP is referred to as the Dynamic Bayesian Stackelberg Equilibrium \u001b[0m\u001b[32m(\u001b[0m\u001b[32mDSE\u001b[0m\u001b[32m)\u001b[0m\u001b[32m.\"\u001b[0m,\n",
       "\u001b[2;32m│   \u001b[0m\u001b[33mtype\u001b[0m=\u001b[32m'Knowledge/RAG'\u001b[0m,\n",
       "\u001b[2;32m│   \u001b[0m\u001b[33msources\u001b[0m=\u001b[1m[\u001b[0m\u001b[32m'CSE_1.pdf'\u001b[0m\u001b[1m]\u001b[0m\n",
       "\u001b[1m)\u001b[0m\n"
      ]
     },
     "metadata": {},
     "output_type": "display_data"
    }
   ],
   "source": [
    "# Pretty print the structured content (your AnswerOutput model)\n",
    "pprint(response.content)"
   ]
  },
  {
   "cell_type": "code",
   "execution_count": 117,
   "id": "c53ac8b1-c657-4601-adf1-cf5dec74f29e",
   "metadata": {},
   "outputs": [
    {
     "name": "stdout",
     "output_type": "stream",
     "text": [
      "Query: Learning in Dynamic Bayesian Stackelberg Games\n",
      "Answer: In a Dynamic Bayesian Stackelberg Game, the leader's main objective is to maximize her utility over multiple rounds rather than just identifying the follower type. The leader commits to a Dynamic Bayesian Stackelberg Policy (DSP) before the game starts, which specifies the leader's strategy at each round. This policy is observed by the follower in advance. This type of commitment is common in literature related to dynamic pricing problems, dynamic mechanism design, and Stackelberg security games. The optimal DSP is referred to as the Dynamic Bayesian Stackelberg Equilibrium (DSE).\n",
      "Type: Knowledge/RAG\n",
      "Sources: ['CSE_1.pdf']\n"
     ]
    }
   ],
   "source": [
    "# Or access individual fields\n",
    "print(f\"Query: {response.content.query}\")\n",
    "print(f\"Answer: {response.content.answer}\")\n",
    "print(f\"Type: {response.content.type}\")\n",
    "print(f\"Sources: {response.content.sources}\")"
   ]
  },
  {
   "cell_type": "markdown",
   "id": "c2a1ca7c-cd87-45ee-a31d-ef433a40aecf",
   "metadata": {},
   "source": [
    "# Multi-Lingual Agent"
   ]
  },
  {
   "cell_type": "code",
   "execution_count": 122,
   "id": "efb053b4-2446-4d70-abe2-c3790c85c116",
   "metadata": {},
   "outputs": [],
   "source": [
    "# Agent with structured_output using Pydantic model\n",
    "agent = Agent(\n",
    "    tools=[DuckDuckGoTools()],\n",
    "    knowledge=knowledge_base,\n",
    "    instructions=[\n",
    "        \"Understand user's query and translate into English to use the knowledge-base and web search\"\n",
    "        \"Try to answer the query using the knowledge base (RAG) first.\",\n",
    "        \"If the knowledge base does not contain the information or the user asks for a web search, use DuckDuckGo.\",\n",
    "        \"Return your response following the provided structured format.\"\n",
    "        \"Answer in the same language as of user's query\"\n",
    "    ],\n",
    "    response_model=AnswerOutput,  # <-- Pydantic model here\n",
    "    show_tool_calls=True,\n",
    "    markdown=False,\n",
    ")"
   ]
  },
  {
   "cell_type": "code",
   "execution_count": 124,
   "id": "c60c1a47-117f-425e-8352-e0a098c55523",
   "metadata": {},
   "outputs": [
    {
     "name": "stdout",
     "output_type": "stream",
     "text": [
      "Start Time: 2025-06-04 16:39:01\n",
      "End Time: 2025-06-04 16:39:14\n",
      "Elapsed Time: 12.39 seconds\n"
     ]
    }
   ],
   "source": [
    "from agno.agent import RunResponse\n",
    "from rich.pretty import pprint\n",
    "from datetime import datetime\n",
    "\n",
    "start_time = datetime.now()\n",
    "print(f\"Start Time: {start_time.strftime('%Y-%m-%d %H:%M:%S')}\")\n",
    "\n",
    "# Test the agent\n",
    "# response: RunResponse = agent.run(\"What are the latest developments in AI, and how do they relate to the concepts in our knowledge base?\")\n",
    "response: RunResponse = agent.run(\"ডায়নামিক বেয়েসিয়ান স্ট্যাকেলবার্গ গেমসে শেখা সম্পর্কে আমাকে বলুন\")\n",
    "\n",
    "end_time = datetime.now()\n",
    "elapsed = end_time - start_time\n",
    "\n",
    "print(f\"End Time: {end_time.strftime('%Y-%m-%d %H:%M:%S')}\")\n",
    "print(f\"Elapsed Time: {elapsed.total_seconds():.2f} seconds\")  # <-- FIXED\n"
   ]
  },
  {
   "cell_type": "code",
   "execution_count": 125,
   "id": "81e5d306-2087-4eaa-b919-27269ca7cadb",
   "metadata": {},
   "outputs": [
    {
     "data": {
      "text/html": [
       "<pre style=\"white-space:pre;overflow-x:auto;line-height:normal;font-family:Menlo,'DejaVu Sans Mono',consolas,'Courier New',monospace\"><span style=\"color: #800080; text-decoration-color: #800080; font-weight: bold\">AnswerOutput</span><span style=\"font-weight: bold\">(</span>\n",
       "<span style=\"color: #7fbf7f; text-decoration-color: #7fbf7f\">│   </span><span style=\"color: #808000; text-decoration-color: #808000\">query</span>=<span style=\"color: #008000; text-decoration-color: #008000\">'ডায়নামিক বেয়েসিয়ান স্ট্যাকেলবার্গ গেমসে শেখা সম্পর্কে আমাকে বলুন'</span>,\n",
       "<span style=\"color: #7fbf7f; text-decoration-color: #7fbf7f\">│   </span><span style=\"color: #808000; text-decoration-color: #808000\">answer</span>=<span style=\"color: #008000; text-decoration-color: #008000\">'ডায়নামিক বেয়েসিয়ান স্ট্যাকেলবার্গ গেমসে শেখার জন্য কার্যকর কৌশলগুলি আঁকড়ে ধরার এবং যোগাযোগের বিকল্প নয় বরং একটি প্রকৃতিসম্পন্ন উপায় হিসেবে শেখার প্রণালী গ্রহণ করা হয়। এই ধরনের গেমসে একটি কার্যকর ডায়নামিক নীতি কীভাবে গণনা করা যায় তা নির্ধারণের জন্য বিভিন্ন অ্যালগরিদম উন্নত করা হয়েছে। যখন T = 1, তখন এই গেমটি বেয়েসিয়ান স্ট্যাকেলবার্গ ইকুইলিব্রিয়াম (BSE) এর দিকে ধাবিত হয় যা NP-hard সমস্যার পরিচিত। \\n\\nT &gt; 1, যখন, একটি ডায়নামিক নীতি লিখে রাখা স্থান অনুযায়ী ব্যয়বহুল হয় কারণ এটি পিছনের প্রতিটি সম্ভাব্য কর্মপ্রবাহের জন্য একটি কৌশল নির্ধারণ করতে হয়। এই অবস্থায় ছোট গেমের জন্য ডায়নামিক স্ট্যাকেলবার্গ ইকুইলিব্রিয়াম (DSE) গণনা করার জন্য মিশ্রিত পূর্ণসংখ্যামূলক লিনিয়ার প্রোগ্রাম (MILP) ফর্মুলেশন প্রদান করা হয়। এই MILP-তে কিছু সংখ্যক নিরবচ্ছিন্ন ভ্যারিয়েবল ও পূর্ণসংখ্যামূলক ভ্যারিয়েবল থাকে যা নির্ণয়ের জন্য নির্দিষ্ট সময় ব্যয়বহুল হয়।'</span>,\n",
       "<span style=\"color: #7fbf7f; text-decoration-color: #7fbf7f\">│   </span><span style=\"color: #808000; text-decoration-color: #808000\">type</span>=<span style=\"color: #008000; text-decoration-color: #008000\">'Knowledge/RAG'</span>,\n",
       "<span style=\"color: #7fbf7f; text-decoration-color: #7fbf7f\">│   </span><span style=\"color: #808000; text-decoration-color: #808000\">sources</span>=<span style=\"font-weight: bold\">[</span><span style=\"color: #008000; text-decoration-color: #008000\">'CSE_1.pdf'</span><span style=\"font-weight: bold\">]</span>\n",
       "<span style=\"font-weight: bold\">)</span>\n",
       "</pre>\n"
      ],
      "text/plain": [
       "\u001b[1;35mAnswerOutput\u001b[0m\u001b[1m(\u001b[0m\n",
       "\u001b[2;32m│   \u001b[0m\u001b[33mquery\u001b[0m=\u001b[32m'ডায়নামিক বেয়েসিয়ান স্ট্যাকেলবার্গ গেমসে শেখা সম্পর্কে আমাকে বলুন'\u001b[0m,\n",
       "\u001b[2;32m│   \u001b[0m\u001b[33manswer\u001b[0m=\u001b[32m'ডায়নামিক বেয়েসিয়ান স্ট্যাকেলবার্গ গেমসে শেখার জন্য কার্যকর কৌশলগুলি আঁকড়ে ধরার এবং যোগাযোগের বিকল্প নয় বরং একটি প্রকৃতিসম্পন্ন উপায় হিসেবে শেখার প্রণালী গ্রহণ করা হয়। এই ধরনের গেমসে একটি কার্যকর ডায়নামিক নীতি কীভাবে গণনা করা যায় তা নির্ধারণের জন্য বিভিন্ন অ্যালগরিদম উন্নত করা হয়েছে। যখন T = 1, তখন এই গেমটি বেয়েসিয়ান স্ট্যাকেলবার্গ ইকুইলিব্রিয়াম \u001b[0m\u001b[32m(\u001b[0m\u001b[32mBSE\u001b[0m\u001b[32m)\u001b[0m\u001b[32m এর দিকে ধাবিত হয় যা NP-hard সমস্যার পরিচিত। \\n\\nT > 1, যখন, একটি ডায়নামিক নীতি লিখে রাখা স্থান অনুযায়ী ব্যয়বহুল হয় কারণ এটি পিছনের প্রতিটি সম্ভাব্য কর্মপ্রবাহের জন্য একটি কৌশল নির্ধারণ করতে হয়। এই অবস্থায় ছোট গেমের জন্য ডায়নামিক স্ট্যাকেলবার্গ ইকুইলিব্রিয়াম \u001b[0m\u001b[32m(\u001b[0m\u001b[32mDSE\u001b[0m\u001b[32m)\u001b[0m\u001b[32m গণনা করার জন্য মিশ্রিত পূর্ণসংখ্যামূলক লিনিয়ার প্রোগ্রাম \u001b[0m\u001b[32m(\u001b[0m\u001b[32mMILP\u001b[0m\u001b[32m)\u001b[0m\u001b[32m ফর্মুলেশন প্রদান করা হয়। এই MILP-তে কিছু সংখ্যক নিরবচ্ছিন্ন ভ্যারিয়েবল ও পূর্ণসংখ্যামূলক ভ্যারিয়েবল থাকে যা নির্ণয়ের জন্য নির্দিষ্ট সময় ব্যয়বহুল হয়।'\u001b[0m,\n",
       "\u001b[2;32m│   \u001b[0m\u001b[33mtype\u001b[0m=\u001b[32m'Knowledge/RAG'\u001b[0m,\n",
       "\u001b[2;32m│   \u001b[0m\u001b[33msources\u001b[0m=\u001b[1m[\u001b[0m\u001b[32m'CSE_1.pdf'\u001b[0m\u001b[1m]\u001b[0m\n",
       "\u001b[1m)\u001b[0m\n"
      ]
     },
     "metadata": {},
     "output_type": "display_data"
    }
   ],
   "source": [
    "# Pretty print the structured content (your AnswerOutput model)\n",
    "pprint(response.content)"
   ]
  },
  {
   "cell_type": "code",
   "execution_count": null,
   "id": "ddb3c14a-7dcf-47d6-bfcd-29bc1c5ad518",
   "metadata": {},
   "outputs": [],
   "source": []
  }
 ],
 "metadata": {
  "kernelspec": {
   "display_name": "Python 3 (ipykernel)",
   "language": "python",
   "name": "python3"
  },
  "language_info": {
   "codemirror_mode": {
    "name": "ipython",
    "version": 3
   },
   "file_extension": ".py",
   "mimetype": "text/x-python",
   "name": "python",
   "nbconvert_exporter": "python",
   "pygments_lexer": "ipython3",
   "version": "3.12.7"
  }
 },
 "nbformat": 4,
 "nbformat_minor": 5
}
